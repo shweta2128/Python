{
 "cells": [
  {
   "cell_type": "code",
   "execution_count": 1,
   "id": "10d01d90",
   "metadata": {},
   "outputs": [
    {
     "data": {
      "text/plain": [
       "'Because it has a wide variety of applications.\\nAll sorts of technological solutions have Python at their core, from web applications, search engines, \\nand games to animation software and even other programming languages.\\nPython is used to create web and mobile software, in artificial intelligence (AI) and machine learning (ML), \\nto perform data manipulation and analysis, and much much more.\\nhigh-level means it is easy for humans to understand.\\n'"
      ]
     },
     "execution_count": 1,
     "metadata": {},
     "output_type": "execute_result"
    }
   ],
   "source": [
    "#Q1. Why do we call Python as a general purpose and high-level programming language?\n",
    "\"\"\"Because it has a wide variety of applications.\n",
    "All sorts of technological solutions have Python at their core, from web applications, search engines, \n",
    "and games to animation software and even other programming languages.\n",
    "Python is used to create web and mobile software, in artificial intelligence (AI) and machine learning (ML), \n",
    "to perform data manipulation and analysis, and much much more.\n",
    "high-level means it is easy for humans to understand.\n",
    "\"\"\""
   ]
  },
  {
   "cell_type": "code",
   "execution_count": 2,
   "id": "9117a98a",
   "metadata": {},
   "outputs": [
    {
     "data": {
      "text/plain": [
       "'Python is a dynamically typed language. \\nThis means that the Python interpreter does type checking only as code runs, \\nand the type of a variable is allowed to change over its lifetime'"
      ]
     },
     "execution_count": 2,
     "metadata": {},
     "output_type": "execute_result"
    }
   ],
   "source": [
    "#Q2. Why is Python called a dynamically typed language?\n",
    "\"\"\"Python is a dynamically typed language. \n",
    "This means that the Python interpreter does type checking only as code runs, \n",
    "and the type of a variable is allowed to change over its lifetime\"\"\"\n"
   ]
  },
  {
   "cell_type": "code",
   "execution_count": 3,
   "id": "5ba51ad4",
   "metadata": {},
   "outputs": [
    {
     "data": {
      "text/plain": [
       "'PROS:\\n1. Beginner-Friendly \\n2. Large Community\\n3. Flexible and Extensible\\n4. Extensive Libraries \\n5. Embeddable\\n6. Highly Scalable\\n7. IOT Opportunities\\n8. Machine Learning\\n9. Portable\\n\\nCONS:\\n1. Issues with Design\\nPython developers sometimes have to deal with complicated designs. \\nTherefore, highly efficient and experienced developers are preferred over beginners.\\n2. Slower than Compiled Languages\\nPython is slow compared to other non-compiled languages as it requires a lot of computational power. \\nSo, this is the thing that you need to look at before choosing Python.\\n3. Security\\nPython is not 100% secure. You need to take the necessary steps to ensure the code’s security. \\nHowever, performing the right QA testing can fix this concern.\\n4. Work Environment\\nBefore working with Python, you must set up a work environment. \\nMany trouble can arise while setting up the environment, affecting beginners’ programming experience. \\n\\nSo, it would be better to go for Python IDEs and set up the environment with the help of official guides.\\n5. Python’s Memory Consumption and Garbage Collection\\nPython language comes with high memory usage, and the high memory consumption should be tackled carefully during the project. \\nIt uses reference counting in its garbage collection, which often leads to potential memory losses.\\n6. Python is Dynamically Typed\\nDevelopers working in Data Science and Machine Learning projects prefer statically-typed language over dynamically typed language. \\nThe reason is that the statically typed language potentially minimizes a lot of errors and bugs in the system.\\n7. Multithreading in Python \\nPython developers need to use a different implementation of Python such as Jython, IronPython, \\nPyPy, or C extension to achieve true multithreading.\\n'"
      ]
     },
     "execution_count": 3,
     "metadata": {},
     "output_type": "execute_result"
    }
   ],
   "source": [
    "#Q3. List some pros and cons of Python programming language?\n",
    "\"\"\"PROS:\n",
    "1. Beginner-Friendly \n",
    "2. Large Community\n",
    "3. Flexible and Extensible\n",
    "4. Extensive Libraries \n",
    "5. Embeddable\n",
    "6. Highly Scalable\n",
    "7. IOT Opportunities\n",
    "8. Machine Learning\n",
    "9. Portable\n",
    "\n",
    "CONS:\n",
    "1. Issues with Design\n",
    "Python developers sometimes have to deal with complicated designs. \n",
    "Therefore, highly efficient and experienced developers are preferred over beginners.\n",
    "2. Slower than Compiled Languages\n",
    "Python is slow compared to other non-compiled languages as it requires a lot of computational power. \n",
    "So, this is the thing that you need to look at before choosing Python.\n",
    "3. Security\n",
    "Python is not 100% secure. You need to take the necessary steps to ensure the code’s security. \n",
    "However, performing the right QA testing can fix this concern.\n",
    "4. Work Environment\n",
    "Before working with Python, you must set up a work environment. \n",
    "Many trouble can arise while setting up the environment, affecting beginners’ programming experience. \n",
    "\n",
    "So, it would be better to go for Python IDEs and set up the environment with the help of official guides.\n",
    "5. Python’s Memory Consumption and Garbage Collection\n",
    "Python language comes with high memory usage, and the high memory consumption should be tackled carefully during the project. \n",
    "It uses reference counting in its garbage collection, which often leads to potential memory losses.\n",
    "6. Python is Dynamically Typed\n",
    "Developers working in Data Science and Machine Learning projects prefer statically-typed language over dynamically typed language. \n",
    "The reason is that the statically typed language potentially minimizes a lot of errors and bugs in the system.\n",
    "7. Multithreading in Python \n",
    "Python developers need to use a different implementation of Python such as Jython, IronPython, \n",
    "PyPy, or C extension to achieve true multithreading.\n",
    "\"\"\""
   ]
  },
  {
   "cell_type": "code",
   "execution_count": 4,
   "id": "2ec2f37c",
   "metadata": {},
   "outputs": [
    {
     "data": {
      "text/plain": [
       "'Python is used in multiple domains ranging from Data Science, Machine Learning, Deep Learning, Artificial Intelligence, \\nScientific Computing Scripting, Networking, Game Development to Web Development\\n'"
      ]
     },
     "execution_count": 4,
     "metadata": {},
     "output_type": "execute_result"
    }
   ],
   "source": [
    "#Q4. In what all domains can we use Python?\n",
    "\"\"\"Python is used in multiple domains ranging from Data Science, Machine Learning, Deep Learning, Artificial Intelligence, \n",
    "Scientific Computing Scripting, Networking, Game Development to Web Development\n",
    "\"\"\"\n"
   ]
  },
  {
   "cell_type": "code",
   "execution_count": 5,
   "id": "18da0c45",
   "metadata": {},
   "outputs": [
    {
     "data": {
      "text/plain": [
       "'Shweta'"
      ]
     },
     "execution_count": 5,
     "metadata": {},
     "output_type": "execute_result"
    }
   ],
   "source": [
    "#Q5. What are variable and how can we declare them?\n",
    "#A variable in Python is a reserved memory location to store values. \n",
    "#In other words, a variable in a python program gives data to the computer for processing. \n",
    "#Declaring and re-declaring a variable in Python is as easy as writing names and assigning values to it.\"\"\"\"\"\"\n",
    "\n",
    "name = \"Shweta\"\n",
    "name"
   ]
  },
  {
   "cell_type": "code",
   "execution_count": 6,
   "id": "10f6e82b",
   "metadata": {},
   "outputs": [
    {
     "name": "stdout",
     "output_type": "stream",
     "text": [
      "Enter Name:shweta\n",
      "username is : shweta\n"
     ]
    }
   ],
   "source": [
    "#Q6. How can we take an input from the user in Python?\n",
    "#using input function\n",
    "user = input(\"Enter Name:\")\n",
    "print(\"username is :\",user)"
   ]
  },
  {
   "cell_type": "code",
   "execution_count": 7,
   "id": "a48a6fda",
   "metadata": {},
   "outputs": [
    {
     "name": "stdout",
     "output_type": "stream",
     "text": [
      "Enter day of month:5\n",
      "day od month is : 5\n"
     ]
    },
    {
     "data": {
      "text/plain": [
       "str"
      ]
     },
     "execution_count": 7,
     "metadata": {},
     "output_type": "execute_result"
    }
   ],
   "source": [
    "#Q7. What is the default datatype of the value that has been taken as an input using input() function?\n",
    "\n",
    "#default datatype is \"str\"\n",
    "\n",
    "day_month = input(\"Enter day of month:\")\n",
    "print(\"day od month is :\",day_month)\n",
    "type(day_month)"
   ]
  },
  {
   "cell_type": "code",
   "execution_count": 8,
   "id": "ccfc9c41",
   "metadata": {},
   "outputs": [
    {
     "data": {
      "text/plain": [
       "'The conversion of one data type into the other data type is known as type casting in python or type conversion in python. \\nPython supports a wide variety of functions or methods like: int(), float(), str(), ord(), hex(), oct(), tuple(), set(), list(), dict(), etc. for the type casting in python.\\n'"
      ]
     },
     "execution_count": 8,
     "metadata": {},
     "output_type": "execute_result"
    }
   ],
   "source": [
    "#Q8. What is type casting?\n",
    "\n",
    "\"\"\"The conversion of one data type into the other data type is known as type casting in python or type conversion in python. \n",
    "Python supports a wide variety of functions or methods like: int(), float(), str(), ord(), hex(), oct(), tuple(), set(), list(), dict(), etc. for the type casting in python.\n",
    "\"\"\""
   ]
  },
  {
   "cell_type": "code",
   "execution_count": 9,
   "id": "9b4fe4b2",
   "metadata": {},
   "outputs": [
    {
     "name": "stdout",
     "output_type": "stream",
     "text": [
      "Enter three values: shweta mnahadik a\n",
      "Enter Your First Name:  shweta\n",
      "Enter Your Last Name:  mnahadik\n",
      "Enter Your Class:  a\n",
      "\n"
     ]
    }
   ],
   "source": [
    "#Q9. Can we take more than one input from the user using single input() function? If yes, how? If no, why?\n",
    "#No, we can not take more than one input from user using single input() function.\n",
    "#We can use split() function to split the string and assign it to multiple variables.\n",
    "\n",
    "a, b, c = input(\"Enter three values: \").split()  \n",
    "print(\"Enter Your First Name: \", a)  \n",
    "print(\"Enter Your Last Name: \", b)  \n",
    "print(\"Enter Your Class: \", c)  \n",
    "print()  \n"
   ]
  },
  {
   "cell_type": "code",
   "execution_count": 10,
   "id": "b0b6addb",
   "metadata": {},
   "outputs": [
    {
     "name": "stdout",
     "output_type": "stream",
     "text": [
      "\n",
      "Here is a list of the Python keywords.  Enter any keyword to get more help.\n",
      "\n",
      "False               break               for                 not\n",
      "None                class               from                or\n",
      "True                continue            global              pass\n",
      "__peg_parser__      def                 if                  raise\n",
      "and                 del                 import              return\n",
      "as                  elif                in                  try\n",
      "assert              else                is                  while\n",
      "async               except              lambda              with\n",
      "await               finally             nonlocal            yield\n",
      "\n"
     ]
    }
   ],
   "source": [
    "#Q10. What are keywords?\n",
    "\n",
    "#Python keywords are special reserved words that have specific meanings and purposes \n",
    "#and can’t be used for anything but those specific purposes. \n",
    "#These keywords are always available—never have to import them into your code.\n",
    "#You can get a list of available keywords by using help():\n",
    "    \n",
    "help(\"keywords\")\n"
   ]
  },
  {
   "cell_type": "code",
   "execution_count": 11,
   "id": "3b5e3874",
   "metadata": {},
   "outputs": [
    {
     "data": {
      "text/plain": [
       "'We cannot use a keyword as a variable name, function name, or any other identifier.\\nThey are used to define the syntax and structure of the Python language.\\n'"
      ]
     },
     "execution_count": 11,
     "metadata": {},
     "output_type": "execute_result"
    }
   ],
   "source": [
    "#Q11. Can we use keywords as a variable? Support your answer with reason.\n",
    "\n",
    "\"\"\"We cannot use a keyword as a variable name, function name, or any other identifier.\n",
    "They are used to define the syntax and structure of the Python language.\n",
    "\"\"\""
   ]
  },
  {
   "cell_type": "code",
   "execution_count": 12,
   "id": "15012591",
   "metadata": {},
   "outputs": [
    {
     "data": {
      "text/plain": [
       "'Indentation refers to the spaces at the beginning of a code line. \\nWhere in other programming languages the indentation in code is for readability only, \\nthe indentation in Python is very important.\\nPython uses indentation to indicate a block of code.\\n'"
      ]
     },
     "execution_count": 12,
     "metadata": {},
     "output_type": "execute_result"
    }
   ],
   "source": [
    "#Q12. What is indentation? What's the use of indentaion in Python?\n",
    "\"\"\"Indentation refers to the spaces at the beginning of a code line. \n",
    "Where in other programming languages the indentation in code is for readability only, \n",
    "the indentation in Python is very important.\n",
    "Python uses indentation to indicate a block of code.\n",
    "\"\"\"\n"
   ]
  },
  {
   "cell_type": "code",
   "execution_count": 13,
   "id": "61249bca",
   "metadata": {},
   "outputs": [
    {
     "name": "stdout",
     "output_type": "stream",
     "text": [
      "Enter name: sdfg\n",
      "sdfg\n"
     ]
    }
   ],
   "source": [
    "#Q13. How can we throw some output in Python?\n",
    "\n",
    "#we use print() function to throw output in python\n",
    "\n",
    "name = input(\"Enter name: \")\n",
    "print(name)"
   ]
  },
  {
   "cell_type": "code",
   "execution_count": 14,
   "id": "63f434cc",
   "metadata": {},
   "outputs": [
    {
     "data": {
      "text/plain": [
       "'Operators are used to perform operations on variables and values.\\n\\nIn the example below, we use the + operator to add together two values.\\nPython divides the operators in the following groups:\\n\\nArithmetic operators\\nAssignment operators\\nComparison operators\\nLogical operators\\nIdentity operators\\nMembership operators\\nBitwise operators\\n'"
      ]
     },
     "execution_count": 14,
     "metadata": {},
     "output_type": "execute_result"
    }
   ],
   "source": [
    "#Q14. What are operators in Python?\n",
    "\n",
    "\"\"\"Operators are used to perform operations on variables and values.\n",
    "\n",
    "In the example below, we use the + operator to add together two values.\n",
    "Python divides the operators in the following groups:\n",
    "\n",
    "Arithmetic operators\n",
    "Assignment operators\n",
    "Comparison operators\n",
    "Logical operators\n",
    "Identity operators\n",
    "Membership operators\n",
    "Bitwise operators\n",
    "\"\"\""
   ]
  },
  {
   "cell_type": "code",
   "execution_count": 15,
   "id": "d69beb36",
   "metadata": {},
   "outputs": [
    {
     "name": "stdout",
     "output_type": "stream",
     "text": [
      "2.6\n",
      "2\n"
     ]
    }
   ],
   "source": [
    "#Q15. What is difference between / and // operators?\n",
    "\"\"\"‘/’ is normal division and ‘//’ is floor division.\n",
    "Normal division (/) returns a fractional number, \n",
    "whereas floor division (//) truncates the decimal part and returns the quotient.\n",
    "\n",
    "\"\"\"\n",
    "print(13/5)\n",
    "print(13//5)"
   ]
  },
  {
   "cell_type": "code",
   "execution_count": 16,
   "id": "45ed8e86",
   "metadata": {},
   "outputs": [
    {
     "name": "stdout",
     "output_type": "stream",
     "text": [
      "iNeuroniNeuroniNeuroniNeuron\n"
     ]
    }
   ],
   "source": [
    "#Q16. Write a code that gives following as an output\n",
    "#iNeuroniNeuroniNeuroniNeuron\n",
    "\n",
    "name = \"iNeuron\"\n",
    "\n",
    "print(4*name)\n",
    "\n"
   ]
  },
  {
   "cell_type": "code",
   "execution_count": 17,
   "id": "aa4061a4",
   "metadata": {},
   "outputs": [
    {
     "name": "stdout",
     "output_type": "stream",
     "text": [
      "Enter number: 5\n",
      "Number is Odd\n"
     ]
    }
   ],
   "source": [
    "#Q17. Write a code to take a number as an input from the user and check if the number is odd or even.\n",
    "\n",
    "number = int(input(\"Enter number: \"))\n",
    "if(number%2 == 0):\n",
    "    print(\"Number is Even\")\n",
    "else:\n",
    "    print(\"Number is Odd\")"
   ]
  },
  {
   "cell_type": "code",
   "execution_count": 18,
   "id": "fd5639c3",
   "metadata": {},
   "outputs": [
    {
     "data": {
      "text/plain": [
       "'Boolean Operators are those that result in the Boolean values of True and False. \\nThese include and, or and not.\\n'"
      ]
     },
     "execution_count": 18,
     "metadata": {},
     "output_type": "execute_result"
    }
   ],
   "source": [
    "#Q18. What are boolean operator?\n",
    "\"\"\"Boolean Operators are those that result in the Boolean values of True and False. \n",
    "These include and, or and not.\n",
    "\"\"\"\n"
   ]
  },
  {
   "cell_type": "code",
   "execution_count": 19,
   "id": "7e2b902e",
   "metadata": {},
   "outputs": [
    {
     "name": "stdout",
     "output_type": "stream",
     "text": [
      "1\n",
      "0\n",
      "False\n",
      "1\n"
     ]
    }
   ],
   "source": [
    "#Q19. What will the output of the following?\n",
    "\n",
    "print(1 or 0) # 1\n",
    "\n",
    "print(0 and 0) # 0\n",
    "\n",
    "print(True and False and True) # False\n",
    "\n",
    "print(1 or 0 or 0) #1"
   ]
  },
  {
   "cell_type": "code",
   "execution_count": 20,
   "id": "6db41fa3",
   "metadata": {},
   "outputs": [
    {
     "data": {
      "text/plain": [
       "'Python if Statement is used for decision-making operations. It contains a body of code which runs only when the condition given in the if statement is true. \\nIf the condition is false, then the optional else statement runs which contains some code for the else condition.\\nWe have different types of conditional statements like if, if-else, elif, nested if, and nested if-else statements which control the execution of our program'"
      ]
     },
     "execution_count": 20,
     "metadata": {},
     "output_type": "execute_result"
    }
   ],
   "source": [
    "#Q20. What are conditional statements in Python?\n",
    "\n",
    "\"\"\"Python if Statement is used for decision-making operations. It contains a body of code which runs only when the condition given in the if statement is true. \n",
    "If the condition is false, then the optional else statement runs which contains some code for the else condition.\n",
    "We have different types of conditional statements like if, if-else, elif, nested if, and nested if-else statements which control the execution of our program\"\"\"\n"
   ]
  },
  {
   "cell_type": "code",
   "execution_count": 21,
   "id": "4a22e035",
   "metadata": {},
   "outputs": [
    {
     "data": {
      "text/plain": [
       "\"#Q21. What is use of 'if', 'elif' and 'else' keywords?\\nFirst it will check if condition, if it is True, then it will execute if block and does not evaluate the rest.\\nif it is false then it will check condition in elif, if it is False then it will execute inside of elif block\\nand if elif condition is False then finally it will execute else part.\\n\\n\""
      ]
     },
     "execution_count": 21,
     "metadata": {},
     "output_type": "execute_result"
    }
   ],
   "source": [
    "\"\"\"#Q21. What is use of 'if', 'elif' and 'else' keywords?\n",
    "First it will check if condition, if it is True, then it will execute if block and does not evaluate the rest.\n",
    "if it is false then it will check condition in elif, if it is False then it will execute inside of elif block\n",
    "and if elif condition is False then finally it will execute else part.\n",
    "\n",
    "\"\"\""
   ]
  },
  {
   "cell_type": "code",
   "execution_count": 22,
   "id": "11295b51",
   "metadata": {},
   "outputs": [
    {
     "name": "stdout",
     "output_type": "stream",
     "text": [
      "Enter Age : 56\n",
      "I can vote\n"
     ]
    }
   ],
   "source": [
    "#Q22. Write a code to take the age of person as an input and if age >= 18 display \"I can vote\". If age is < 18 display \"I can't vote\".\n",
    "age = int(input(\"Enter Age : \"))\n",
    "if(age >= 18):\n",
    "    print(\"I can vote\")\n",
    "else:\n",
    "    print(\"I can't vote\")"
   ]
  },
  {
   "cell_type": "code",
   "execution_count": 23,
   "id": "e520d15f",
   "metadata": {},
   "outputs": [
    {
     "name": "stdout",
     "output_type": "stream",
     "text": [
      "Even number sum is:  392\n"
     ]
    }
   ],
   "source": [
    "#Q23. Write a code that displays the sum of all the even numbers from the given list.\n",
    "\n",
    "numbers = [12, 75, 150, 180, 145, 525, 50]\n",
    "even_sum = 0\n",
    "for i in numbers:\n",
    "    if(i%2 ==0):\n",
    "        even_sum = even_sum + i\n",
    "print(\"Even number sum is: \",even_sum)"
   ]
  },
  {
   "cell_type": "code",
   "execution_count": 26,
   "id": "5fc5d528",
   "metadata": {},
   "outputs": [
    {
     "name": "stdout",
     "output_type": "stream",
     "text": [
      "Enter three values seperated by space: 5 7 6\n",
      "5\n",
      "7\n",
      "6\n",
      "largest number is : 7\n"
     ]
    }
   ],
   "source": [
    "#Q24. Write a code to take 3 numbers as an input from the user and display the greatest no as output.\n",
    "\n",
    "\n",
    "a, b, c = input(\"Enter three values seperated by space: \").split()\n",
    "a = int(a)\n",
    "b = int(b)\n",
    "c = int(c)\n",
    "print(a)\n",
    "print(b)\n",
    "print(c)\n",
    "if (a >= b) & (a >= c):\n",
    "    largest = a\n",
    "    \n",
    "elif(b >= a) & (b >= c):\n",
    "    largest = b\n",
    "else:\n",
    "    largest = c\n",
    "print(\"largest number is :\",largest)\n",
    "    "
   ]
  },
  {
   "cell_type": "code",
   "execution_count": 27,
   "id": "32673db8",
   "metadata": {},
   "outputs": [
    {
     "name": "stdout",
     "output_type": "stream",
     "text": [
      "[75, 150, 145]\n"
     ]
    }
   ],
   "source": [
    "#Q25. Write a program to display only those numbers from a list that satisfy the following conditions\n",
    "\n",
    "#The number must be divisible by five\n",
    "\n",
    "#If the number is greater than 150, then skip it and move to the next number\n",
    "\n",
    "#If the number is greater than 500, then stop the loop\n",
    "\n",
    "numbers = [12, 75, 150, 180, 145, 525, 50]\n",
    "new_numbers = []\n",
    "for i in numbers:\n",
    "    if(i > 150):\n",
    "        if(i > 500):\n",
    "            break\n",
    "        continue\n",
    "    if(i%5 == 0):\n",
    "        new_numbers.append(i)\n",
    "\n",
    "print(new_numbers)"
   ]
  },
  {
   "cell_type": "code",
   "execution_count": null,
   "id": "8c32b616",
   "metadata": {},
   "outputs": [],
   "source": []
  }
 ],
 "metadata": {
  "kernelspec": {
   "display_name": "Python 3 (ipykernel)",
   "language": "python",
   "name": "python3"
  },
  "language_info": {
   "codemirror_mode": {
    "name": "ipython",
    "version": 3
   },
   "file_extension": ".py",
   "mimetype": "text/x-python",
   "name": "python",
   "nbconvert_exporter": "python",
   "pygments_lexer": "ipython3",
   "version": "3.9.13"
  }
 },
 "nbformat": 4,
 "nbformat_minor": 5
}
