{
 "cells": [
  {
   "cell_type": "code",
   "execution_count": 52,
   "id": "1c1e73f7",
   "metadata": {},
   "outputs": [
    {
     "ename": "SyntaxError",
     "evalue": "invalid syntax (1573301287.py, line 2)",
     "output_type": "error",
     "traceback": [
      "\u001b[1;36m  File \u001b[1;32m\"C:\\Users\\Shweta\\AppData\\Local\\Temp\\ipykernel_17548\\1573301287.py\"\u001b[1;36m, line \u001b[1;32m2\u001b[0m\n\u001b[1;33m    Because it has a wide variety of applications.\u001b[0m\n\u001b[1;37m            ^\u001b[0m\n\u001b[1;31mSyntaxError\u001b[0m\u001b[1;31m:\u001b[0m invalid syntax\n"
     ]
    }
   ],
   "source": [
    "#Q1. Why do we call Python as a general purpose and high-level programming language?\n",
    "Because it has a wide variety of applications.\n",
    "All sorts of technological solutions have Python at their core, from web applications, search engines, \n",
    "and games to animation software and even other programming languages.\n",
    "Python is used to create web and mobile software, in artificial intelligence (AI) and machine learning (ML), \n",
    "to perform data manipulation and analysis, and much much more.\n",
    "high-level means it is easy for humans to understand."
   ]
  },
  {
   "cell_type": "code",
   "execution_count": 2,
   "id": "1bab741c",
   "metadata": {},
   "outputs": [
    {
     "data": {
      "text/plain": [
       "'Python is a dynamically typed language. \\nThis means that the Python interpreter does type checking only as code runs, \\nand the type of a variable is allowed to change over its lifetime'"
      ]
     },
     "execution_count": 2,
     "metadata": {},
     "output_type": "execute_result"
    }
   ],
   "source": [
    "#Q2. Why is Python cPython is a dynamically typed language. This means that the Python interpreter does type checking only as code runs, and the type of a variable is allowed to change over its lifetimealled a dynamically typed language?\n",
    "\n",
    "\"\"\"Python is a dynamically typed language. \n",
    "This means that the Python interpreter does type checking only as code runs, \n",
    "and the type of a variable is allowed to change over its lifetime\"\"\""
   ]
  },
  {
   "cell_type": "code",
   "execution_count": 3,
   "id": "e0ee412b",
   "metadata": {},
   "outputs": [
    {
     "ename": "SyntaxError",
     "evalue": "invalid syntax (1417304264.py, line 2)",
     "output_type": "error",
     "traceback": [
      "\u001b[1;36m  File \u001b[1;32m\"C:\\Users\\Shweta\\AppData\\Local\\Temp\\ipykernel_17548\\1417304264.py\"\u001b[1;36m, line \u001b[1;32m2\u001b[0m\n\u001b[1;33m    PROS:\u001b[0m\n\u001b[1;37m         ^\u001b[0m\n\u001b[1;31mSyntaxError\u001b[0m\u001b[1;31m:\u001b[0m invalid syntax\n"
     ]
    }
   ],
   "source": [
    "#Q3. List some pros and cons of Python programming language?\n",
    "PROS:\n",
    "1. Beginner-Friendly \n",
    "2. Large Community\n",
    "3. Flexible and Extensible\n",
    "4. Extensive Libraries \n",
    "5. Embeddable\n",
    "6. Highly Scalable\n",
    "7. IOT Opportunities\n",
    "8. Machine Learning\n",
    "9. Portable\n",
    "\n",
    "CONS:\n",
    "1. Issues with Design\n",
    "Python developers sometimes have to deal with complicated designs. \n",
    "Therefore, highly efficient and experienced developers are preferred over beginners.\n",
    "2. Slower than Compiled Languages\n",
    "Python is slow compared to other non-compiled languages as it requires a lot of computational power. \n",
    "So, this is the thing that you need to look at before choosing Python.\n",
    "3. Security\n",
    "Python is not 100% secure. You need to take the necessary steps to ensure the code’s security. \n",
    "However, performing the right QA testing can fix this concern.\n",
    "4. Work Environment\n",
    "Before working with Python, you must set up a work environment. \n",
    "Many trouble can arise while setting up the environment, affecting beginners’ programming experience. \n",
    "\n",
    "So, it would be better to go for Python IDEs and set up the environment with the help of official guides.\n",
    "5. Python’s Memory Consumption and Garbage Collection\n",
    "Python language comes with high memory usage, and the high memory consumption should be tackled carefully during the project. \n",
    "It uses reference counting in its garbage collection, which often leads to potential memory losses.\n",
    "6. Python is Dynamically Typed\n",
    "Developers working in Data Science and Machine Learning projects prefer statically-typed language over dynamically typed language. \n",
    "The reason is that the statically typed language potentially minimizes a lot of errors and bugs in the system.\n",
    "7. Multithreading in Python \n",
    "Python developers need to use a different implementation of Python such as Jython, IronPython, \n",
    "PyPy, or C extension to achieve true multithreading."
   ]
  },
  {
   "cell_type": "code",
   "execution_count": 4,
   "id": "bcae9dc0",
   "metadata": {},
   "outputs": [
    {
     "ename": "SyntaxError",
     "evalue": "invalid syntax (1444438975.py, line 2)",
     "output_type": "error",
     "traceback": [
      "\u001b[1;36m  File \u001b[1;32m\"C:\\Users\\Shweta\\AppData\\Local\\Temp\\ipykernel_17548\\1444438975.py\"\u001b[1;36m, line \u001b[1;32m2\u001b[0m\n\u001b[1;33m    Python is used in multiple domains ranging from Data Science, Machine Learning, Deep Learning, Artificial Intelligence,\u001b[0m\n\u001b[1;37m                               ^\u001b[0m\n\u001b[1;31mSyntaxError\u001b[0m\u001b[1;31m:\u001b[0m invalid syntax\n"
     ]
    }
   ],
   "source": [
    "#Q4. In what all domains can we use Python?\n",
    "Python is used in multiple domains ranging from Data Science, Machine Learning, Deep Learning, Artificial Intelligence, \n",
    "Scientific Computing Scripting, Networking, Game Development to Web Development"
   ]
  },
  {
   "cell_type": "code",
   "execution_count": 6,
   "id": "bb92f5ec",
   "metadata": {},
   "outputs": [
    {
     "data": {
      "text/plain": [
       "'Shweta'"
      ]
     },
     "execution_count": 6,
     "metadata": {},
     "output_type": "execute_result"
    }
   ],
   "source": [
    "#Q5. What are variable and how can we declare them?\n",
    "#A variable in Python is a reserved memory location to store values. \n",
    "#In other words, a variable in a python program gives data to the computer for processing. \n",
    "#Declaring and re-declaring a variable in Python is as easy as writing names and assigning values to it.\"\"\"\"\"\"\n",
    "\n",
    "name = \"Shweta\"\n",
    "name"
   ]
  },
  {
   "cell_type": "code",
   "execution_count": 7,
   "id": "3760ec13",
   "metadata": {},
   "outputs": [
    {
     "name": "stdout",
     "output_type": "stream",
     "text": [
      "Enter Name:Shweta\n",
      "username is : Shweta\n"
     ]
    }
   ],
   "source": [
    "#Q6. How can we take an input from the user in Python?\n",
    "user = input(\"Enter Name:\")\n",
    "print(\"username is :\",user)"
   ]
  },
  {
   "cell_type": "code",
   "execution_count": 9,
   "id": "5f5646ec",
   "metadata": {},
   "outputs": [
    {
     "name": "stdout",
     "output_type": "stream",
     "text": [
      "Enter day of month:5\n",
      "day od month is : 5\n"
     ]
    },
    {
     "data": {
      "text/plain": [
       "str"
      ]
     },
     "execution_count": 9,
     "metadata": {},
     "output_type": "execute_result"
    }
   ],
   "source": [
    "#Q7. What is the default datatype of the value that has been taken as an input using input() function?\n",
    "\n",
    "#default datatype is \"str\"\n",
    "\n",
    "day_month = input(\"Enter day of month:\")\n",
    "print(\"day od month is :\",day_month)\n",
    "type(day_month)"
   ]
  },
  {
   "cell_type": "code",
   "execution_count": 10,
   "id": "3014222f",
   "metadata": {},
   "outputs": [
    {
     "ename": "SyntaxError",
     "evalue": "invalid syntax (3485047591.py, line 2)",
     "output_type": "error",
     "traceback": [
      "\u001b[1;36m  File \u001b[1;32m\"C:\\Users\\Shweta\\AppData\\Local\\Temp\\ipykernel_17548\\3485047591.py\"\u001b[1;36m, line \u001b[1;32m2\u001b[0m\n\u001b[1;33m    The conversion of one data type into the other data type is known as type casting in python or type conversion in python.\u001b[0m\n\u001b[1;37m        ^\u001b[0m\n\u001b[1;31mSyntaxError\u001b[0m\u001b[1;31m:\u001b[0m invalid syntax\n"
     ]
    }
   ],
   "source": [
    "#Q8. What is type casting?\n",
    "The conversion of one data type into the other data type is known as type casting in python or type conversion in python. \n",
    "Python supports a wide variety of functions or methods like: int(), float(), str(), ord(), hex(), oct(), tuple(), set(), list(), dict(), etc. for the type casting in python."
   ]
  },
  {
   "cell_type": "code",
   "execution_count": 12,
   "id": "71fc2d1b",
   "metadata": {},
   "outputs": [
    {
     "name": "stdout",
     "output_type": "stream",
     "text": [
      "Enter three values: 3 4 5\n",
      "Enter Your First Name:  3\n",
      "Enter Your Last Name:  4\n",
      "Enter Your Class:  5\n",
      "\n"
     ]
    }
   ],
   "source": [
    "#Q9. Can we take more than one input from the user using single input() function? If yes, how? If no, why?\n",
    "#No, we can not take more than one input from user using single input() function.\n",
    "#We can use split() function to split the string and assign it to multiple variables.\n",
    "\n",
    "a, b, c = input(\"Enter three values: \").split()  \n",
    "print(\"Enter Your First Name: \", a)  \n",
    "print(\"Enter Your Last Name: \", b)  \n",
    "print(\"Enter Your Class: \", c)  \n",
    "print()  \n",
    "\n"
   ]
  },
  {
   "cell_type": "code",
   "execution_count": 13,
   "id": "2fa4db85",
   "metadata": {},
   "outputs": [
    {
     "name": "stdout",
     "output_type": "stream",
     "text": [
      "\n",
      "Here is a list of the Python keywords.  Enter any keyword to get more help.\n",
      "\n",
      "False               break               for                 not\n",
      "None                class               from                or\n",
      "True                continue            global              pass\n",
      "__peg_parser__      def                 if                  raise\n",
      "and                 del                 import              return\n",
      "as                  elif                in                  try\n",
      "assert              else                is                  while\n",
      "async               except              lambda              with\n",
      "await               finally             nonlocal            yield\n",
      "\n"
     ]
    }
   ],
   "source": [
    "#Q10. What are keywords?\n",
    "\n",
    "#Python keywords are special reserved words that have specific meanings and purposes \n",
    "#and can’t be used for anything but those specific purposes. \n",
    "#These keywords are always available—never have to import them into your code.\n",
    "#You can get a list of available keywords by using help():\n",
    "    \n",
    "help(\"keywords\")\n"
   ]
  },
  {
   "cell_type": "code",
   "execution_count": 14,
   "id": "3059e3ea",
   "metadata": {},
   "outputs": [
    {
     "ename": "SyntaxError",
     "evalue": "invalid syntax (1848098155.py, line 3)",
     "output_type": "error",
     "traceback": [
      "\u001b[1;36m  File \u001b[1;32m\"C:\\Users\\Shweta\\AppData\\Local\\Temp\\ipykernel_17548\\1848098155.py\"\u001b[1;36m, line \u001b[1;32m3\u001b[0m\n\u001b[1;33m    We cannot use a keyword as a variable name, function name, or any other identifier.\u001b[0m\n\u001b[1;37m       ^\u001b[0m\n\u001b[1;31mSyntaxError\u001b[0m\u001b[1;31m:\u001b[0m invalid syntax\n"
     ]
    }
   ],
   "source": [
    "#Q11. Can we use keywords as a variable? Support your answer with reason.\n",
    "\n",
    "We cannot use a keyword as a variable name, function name, or any other identifier.\n",
    "They are used to define the syntax and structure of the Python language."
   ]
  },
  {
   "cell_type": "code",
   "execution_count": 15,
   "id": "32250d33",
   "metadata": {},
   "outputs": [
    {
     "ename": "SyntaxError",
     "evalue": "invalid syntax (3151162081.py, line 2)",
     "output_type": "error",
     "traceback": [
      "\u001b[1;36m  File \u001b[1;32m\"C:\\Users\\Shweta\\AppData\\Local\\Temp\\ipykernel_17548\\3151162081.py\"\u001b[1;36m, line \u001b[1;32m2\u001b[0m\n\u001b[1;33m    Indentation refers to the spaces at the beginning of a code line.\u001b[0m\n\u001b[1;37m                ^\u001b[0m\n\u001b[1;31mSyntaxError\u001b[0m\u001b[1;31m:\u001b[0m invalid syntax\n"
     ]
    }
   ],
   "source": [
    "#Q12. What is indentation? What's the use of indentaion in Python?\n",
    "Indentation refers to the spaces at the beginning of a code line. \n",
    "Where in other programming languages the indentation in code is for readability only, \n",
    "the indentation in Python is very important.\n",
    "Python uses indentation to indicate a block of code."
   ]
  },
  {
   "cell_type": "code",
   "execution_count": 18,
   "id": "be481144",
   "metadata": {},
   "outputs": [
    {
     "name": "stdout",
     "output_type": "stream",
     "text": [
      "Enter name: fgh\n",
      "fgh\n"
     ]
    }
   ],
   "source": [
    "#Q13. How can we throw some output in Python?\n",
    "#we use print() function to throw output in python\n",
    "\n",
    "name = input(\"Enter name: \")\n",
    "print(name)"
   ]
  },
  {
   "cell_type": "code",
   "execution_count": 19,
   "id": "08b7c442",
   "metadata": {},
   "outputs": [
    {
     "ename": "SyntaxError",
     "evalue": "invalid syntax (1139600964.py, line 3)",
     "output_type": "error",
     "traceback": [
      "\u001b[1;36m  File \u001b[1;32m\"C:\\Users\\Shweta\\AppData\\Local\\Temp\\ipykernel_17548\\1139600964.py\"\u001b[1;36m, line \u001b[1;32m3\u001b[0m\n\u001b[1;33m    Operators are used to perform operations on variables and values.\u001b[0m\n\u001b[1;37m              ^\u001b[0m\n\u001b[1;31mSyntaxError\u001b[0m\u001b[1;31m:\u001b[0m invalid syntax\n"
     ]
    }
   ],
   "source": [
    "#Q14. What are operators in Python?\n",
    "\n",
    "Operators are used to perform operations on variables and values.\n",
    "\n",
    "In the example below, we use the + operator to add together two values.\n",
    "Python divides the operators in the following groups:\n",
    "\n",
    "Arithmetic operators\n",
    "Assignment operators\n",
    "Comparison operators\n",
    "Logical operators\n",
    "Identity operators\n",
    "Membership operators\n",
    "Bitwise operators"
   ]
  },
  {
   "cell_type": "code",
   "execution_count": 22,
   "id": "cf73e86d",
   "metadata": {},
   "outputs": [
    {
     "name": "stdout",
     "output_type": "stream",
     "text": [
      "2.6\n",
      "2\n"
     ]
    }
   ],
   "source": [
    "#Q15. What is difference between / and // operators?\n",
    "‘/’ is normal division and ‘//’ is floor division.\n",
    "Normal division (/) returns a fractional number, \n",
    "whereas floor division (//) truncates the decimal part and returns the quotient.\n",
    "\n",
    "print(13/5)\n",
    "print(13//5)"
   ]
  },
  {
   "cell_type": "code",
   "execution_count": 23,
   "id": "142bf846",
   "metadata": {},
   "outputs": [
    {
     "name": "stdout",
     "output_type": "stream",
     "text": [
      "iNeuroniNeuroniNeuroniNeuron\n"
     ]
    }
   ],
   "source": [
    "#Q16. Write a code that gives following as an output.\n",
    "#iNeuroniNeuroniNeuroniNeuron\n",
    "\n",
    "name = \"iNeuron\"\n",
    "\n",
    "print(4*name)\n"
   ]
  },
  {
   "cell_type": "code",
   "execution_count": 32,
   "id": "b7e517d5",
   "metadata": {},
   "outputs": [
    {
     "name": "stdout",
     "output_type": "stream",
     "text": [
      "Enter number: 8\n",
      "Number is Even\n"
     ]
    }
   ],
   "source": [
    "#Q17. Write a code to take a number as an input from the user and check if the number is odd or even\n",
    "\n",
    "number = int(input(\"Enter number: \"))\n",
    "if(number%2 == 0):\n",
    "    print(\"Number is Even\")\n",
    "else:\n",
    "    print(\"Number is Odd\")"
   ]
  },
  {
   "cell_type": "code",
   "execution_count": 33,
   "id": "e8cfc6ec",
   "metadata": {},
   "outputs": [
    {
     "ename": "SyntaxError",
     "evalue": "invalid syntax (3688039219.py, line 2)",
     "output_type": "error",
     "traceback": [
      "\u001b[1;36m  File \u001b[1;32m\"C:\\Users\\Shweta\\AppData\\Local\\Temp\\ipykernel_17548\\3688039219.py\"\u001b[1;36m, line \u001b[1;32m2\u001b[0m\n\u001b[1;33m    Boolean Operators are those that result in the Boolean values of True and False.\u001b[0m\n\u001b[1;37m            ^\u001b[0m\n\u001b[1;31mSyntaxError\u001b[0m\u001b[1;31m:\u001b[0m invalid syntax\n"
     ]
    }
   ],
   "source": [
    "#Q18. What are boolean operator?\n",
    "Boolean Operators are those that result in the Boolean values of True and False. \n",
    "These include and, or and not."
   ]
  },
  {
   "cell_type": "code",
   "execution_count": 34,
   "id": "95cdab8b",
   "metadata": {},
   "outputs": [
    {
     "name": "stdout",
     "output_type": "stream",
     "text": [
      "1\n",
      "0\n",
      "False\n",
      "1\n"
     ]
    }
   ],
   "source": [
    "#Q19. What will the output of the following?\n",
    "\n",
    "print(1 or 0) # 1\n",
    "\n",
    "print(0 and 0) # 0\n",
    "\n",
    "print(True and False and True) # False\n",
    "\n",
    "print(1 or 0 or 0) #1\n"
   ]
  },
  {
   "cell_type": "code",
   "execution_count": 35,
   "id": "d70909ff",
   "metadata": {},
   "outputs": [
    {
     "ename": "SyntaxError",
     "evalue": "invalid syntax (1191310676.py, line 3)",
     "output_type": "error",
     "traceback": [
      "\u001b[1;36m  File \u001b[1;32m\"C:\\Users\\Shweta\\AppData\\Local\\Temp\\ipykernel_17548\\1191310676.py\"\u001b[1;36m, line \u001b[1;32m3\u001b[0m\n\u001b[1;33m    Python if Statement is used for decision-making operations. It contains a body of code which runs only when the condition given in the if statement is true.\u001b[0m\n\u001b[1;37m                                ^\u001b[0m\n\u001b[1;31mSyntaxError\u001b[0m\u001b[1;31m:\u001b[0m invalid syntax\n"
     ]
    }
   ],
   "source": [
    "#Q20. What are conditional statements in Python?\n",
    "\n",
    "Python if Statement is used for decision-making operations. It contains a body of code which runs only when the condition given in the if statement is true. \n",
    "If the condition is false, then the optional else statement runs which contains some code for the else condition.\n",
    "We have different types of conditional statements like if, if-else, elif, nested if, and nested if-else statements which control the execution of our program"
   ]
  },
  {
   "cell_type": "code",
   "execution_count": 36,
   "id": "46f677f5",
   "metadata": {},
   "outputs": [
    {
     "ename": "SyntaxError",
     "evalue": "invalid syntax (3373824285.py, line 2)",
     "output_type": "error",
     "traceback": [
      "\u001b[1;36m  File \u001b[1;32m\"C:\\Users\\Shweta\\AppData\\Local\\Temp\\ipykernel_17548\\3373824285.py\"\u001b[1;36m, line \u001b[1;32m2\u001b[0m\n\u001b[1;33m    First it will check if condition, if it is True, then it will execute if block and does not evaluate the rest.\u001b[0m\n\u001b[1;37m          ^\u001b[0m\n\u001b[1;31mSyntaxError\u001b[0m\u001b[1;31m:\u001b[0m invalid syntax\n"
     ]
    }
   ],
   "source": [
    "#Q21. What is use of 'if', 'elif' and 'else' keywords?\n",
    "First it will check if condition, if it is True, then it will execute if block and does not evaluate the rest.\n",
    "if it is false then it will check condition in elif, if it is False then it will execute inside of elif block\n",
    "and if elif condition is False then finally it will execute else part.\n"
   ]
  },
  {
   "cell_type": "code",
   "execution_count": 39,
   "id": "11a20928",
   "metadata": {},
   "outputs": [
    {
     "name": "stdout",
     "output_type": "stream",
     "text": [
      "Enter Age : 13\n",
      "I can't vote\n"
     ]
    }
   ],
   "source": [
    "#Q22. Write a code to take the age of person as an input and if age >= 18 display \"I can vote\". \n",
    "#If age is < 18 display \"I can't vote\".\n",
    "\n",
    "age = int(input(\"Enter Age : \"))\n",
    "if(age >= 18):\n",
    "    print(\"I can vote\")\n",
    "else:\n",
    "    print(\"I can't vote\")\n",
    "    "
   ]
  },
  {
   "cell_type": "code",
   "execution_count": 40,
   "id": "19b1d2ce",
   "metadata": {},
   "outputs": [
    {
     "name": "stdout",
     "output_type": "stream",
     "text": [
      "Even number sum is:  392\n"
     ]
    }
   ],
   "source": [
    "#Q23. Write a code that displays the sum of all the even numbers from the given list.\n",
    "\n",
    "numbers = [12, 75, 150, 180, 145, 525, 50]\n",
    "even_sum = 0\n",
    "for i in numbers:\n",
    "    if(i%2 ==0):\n",
    "        even_sum = even_sum + i\n",
    "print(\"Even number sum is: \",even_sum)"
   ]
  },
  {
   "cell_type": "code",
   "execution_count": 72,
   "id": "af799d1e",
   "metadata": {},
   "outputs": [
    {
     "name": "stdout",
     "output_type": "stream",
     "text": [
      "Enter three values: 4 2 2\n",
      "4\n",
      "2\n",
      "2\n",
      "largest number is : 4\n"
     ]
    }
   ],
   "source": [
    "#Q24. Write a code to take 3 numbers as an input from the user and display the greatest no as output.\n",
    "\n",
    "\n",
    "a, b, c = input(\"Enter three values: \").split()\n",
    "a = int(a)\n",
    "b = int(b)\n",
    "c = int(c)\n",
    "print(a)\n",
    "print(b)\n",
    "print(c)\n",
    "if (a >= b) & (a >= c):\n",
    "    largest = a\n",
    "    \n",
    "elif(b >= a) & (b >= c):\n",
    "    largest = b\n",
    "else:\n",
    "    largest = c\n",
    "print(\"largest number is :\",largest)\n",
    "    "
   ]
  },
  {
   "cell_type": "code",
   "execution_count": 75,
   "id": "bf76b890",
   "metadata": {},
   "outputs": [
    {
     "name": "stdout",
     "output_type": "stream",
     "text": [
      "[75, 150, 145]\n"
     ]
    }
   ],
   "source": [
    "#Q25. Write a program to display only those numbers from a list that satisfy the following conditions\n",
    "\n",
    "#The number must be divisible by five\n",
    "\n",
    "#If the number is greater than 150, then skip it and move to the next number\n",
    "\n",
    "#If the number is greater than 500, then stop the loop\n",
    "\n",
    "numbers = [12, 75, 150, 180, 145, 525, 50]\n",
    "new_numbers = []\n",
    "for i in numbers:\n",
    "    if(i > 150):\n",
    "        if(i > 500):\n",
    "            break\n",
    "        continue\n",
    "    if(i%5 == 0):\n",
    "        new_numbers.append(i)\n",
    "\n",
    "print(new_numbers)\n",
    "            "
   ]
  },
  {
   "cell_type": "code",
   "execution_count": 76,
   "id": "3f741a63",
   "metadata": {},
   "outputs": [
    {
     "ename": "SyntaxError",
     "evalue": "invalid syntax (3712091923.py, line 3)",
     "output_type": "error",
     "traceback": [
      "\u001b[1;36m  File \u001b[1;32m\"C:\\Users\\Shweta\\AppData\\Local\\Temp\\ipykernel_17548\\3712091923.py\"\u001b[1;36m, line \u001b[1;32m3\u001b[0m\n\u001b[1;33m    A string is a data structure in Python that represents a sequence of characters.\u001b[0m\n\u001b[1;37m      ^\u001b[0m\n\u001b[1;31mSyntaxError\u001b[0m\u001b[1;31m:\u001b[0m invalid syntax\n"
     ]
    }
   ],
   "source": [
    "#Q26. What is a string? How can we declare string in Python?\n",
    "\n",
    "A string is a data structure in Python that represents a sequence of characters. \n",
    "It is an immutable data type, meaning that once you have created a string, you cannot change it. "
   ]
  },
  {
   "cell_type": "code",
   "execution_count": 78,
   "id": "35845085",
   "metadata": {},
   "outputs": [
    {
     "data": {
      "text/plain": [
       "'we'"
      ]
     },
     "execution_count": 78,
     "metadata": {},
     "output_type": "execute_result"
    }
   ],
   "source": [
    "#Q27. How can we access the string using its index?\n",
    "name = \"Shweta\"\n",
    "name[2:4]  # like list we can access using index"
   ]
  },
  {
   "cell_type": "code",
   "execution_count": 80,
   "id": "fcbdae39",
   "metadata": {},
   "outputs": [
    {
     "name": "stdout",
     "output_type": "stream",
     "text": [
      "iNeuron\n"
     ]
    }
   ],
   "source": [
    "#Q28. Write a code to get the desired output of the following\n",
    "\n",
    "#string = \"Big Data iNeuron\"\n",
    "#desired_output = \"iNeuron\"\n",
    "\n",
    "\n",
    "string = \"Big Data iNeuron\"\n",
    "desired_output = string[9:]\n",
    "print(desired_output)"
   ]
  },
  {
   "cell_type": "code",
   "execution_count": 89,
   "id": "dbe8e5b8",
   "metadata": {},
   "outputs": [
    {
     "name": "stdout",
     "output_type": "stream",
     "text": [
      "norueNi\n"
     ]
    }
   ],
   "source": [
    "#Q29. Write a code to get the desired output of the following\n",
    "#string = \"Big Data iNeuron\"\n",
    "#desired_output = \"norueNi\"\n",
    "\n",
    "string = \"Big Data iNeuron\"\n",
    "desired_output = string[:8:-1]\n",
    "print(desired_output)"
   ]
  },
  {
   "cell_type": "code",
   "execution_count": 90,
   "id": "7f25b29d",
   "metadata": {},
   "outputs": [
    {
     "name": "stdout",
     "output_type": "stream",
     "text": [
      "norueNi ataD giB\n"
     ]
    }
   ],
   "source": [
    "#Q30. Resverse the string given in the above question.\n",
    "\n",
    "string = \"Big Data iNeuron\"\n",
    "desired_output = string[::-1]\n",
    "print(desired_output)"
   ]
  },
  {
   "cell_type": "code",
   "execution_count": 93,
   "id": "7440f3fa",
   "metadata": {},
   "outputs": [
    {
     "ename": "NameError",
     "evalue": "name 'name' is not defined",
     "output_type": "error",
     "traceback": [
      "\u001b[1;31m---------------------------------------------------------------------------\u001b[0m",
      "\u001b[1;31mNameError\u001b[0m                                 Traceback (most recent call last)",
      "\u001b[1;32m~\\AppData\\Local\\Temp\\ipykernel_17548\\552322634.py\u001b[0m in \u001b[0;36m<module>\u001b[1;34m\u001b[0m\n\u001b[0;32m      3\u001b[0m \u001b[0mname\u001b[0m \u001b[1;33m=\u001b[0m \u001b[1;34m\"Shweta\"\u001b[0m\u001b[1;33m\u001b[0m\u001b[1;33m\u001b[0m\u001b[0m\n\u001b[0;32m      4\u001b[0m \u001b[1;32mdel\u001b[0m \u001b[0mname\u001b[0m\u001b[1;33m\u001b[0m\u001b[1;33m\u001b[0m\u001b[0m\n\u001b[1;32m----> 5\u001b[1;33m \u001b[0mprint\u001b[0m\u001b[1;33m(\u001b[0m\u001b[0mname\u001b[0m\u001b[1;33m)\u001b[0m\u001b[1;33m\u001b[0m\u001b[1;33m\u001b[0m\u001b[0m\n\u001b[0m",
      "\u001b[1;31mNameError\u001b[0m: name 'name' is not defined"
     ]
    }
   ],
   "source": [
    "#Q31. How can you delete entire string at once?\n",
    "\n",
    "name = \"Shweta\"\n",
    "del name\n",
    "print(name)"
   ]
  },
  {
   "cell_type": "code",
   "execution_count": 94,
   "id": "55390c9c",
   "metadata": {},
   "outputs": [
    {
     "ename": "SyntaxError",
     "evalue": "invalid syntax (855485089.py, line 3)",
     "output_type": "error",
     "traceback": [
      "\u001b[1;36m  File \u001b[1;32m\"C:\\Users\\Shweta\\AppData\\Local\\Temp\\ipykernel_17548\\855485089.py\"\u001b[1;36m, line \u001b[1;32m3\u001b[0m\n\u001b[1;33m    An escape sequence is a sequence of characters that,\u001b[0m\n\u001b[1;37m       ^\u001b[0m\n\u001b[1;31mSyntaxError\u001b[0m\u001b[1;31m:\u001b[0m invalid syntax\n"
     ]
    }
   ],
   "source": [
    "#Q32. What is escape sequence?\n",
    "\n",
    "An escape sequence is a sequence of characters that, \n",
    "when used inside a character or string, does not represent itself but is converted into another character \n",
    "or series of characters that may be difficult or impossible to express directly, like newline (\\n), tab (\\t), and so on.\n",
    "\n",
    "In the escape sequence, a character is preceded by a backslash (\\) followed by the character \n",
    "we want to represent for the new line. \n",
    "We have something like this \\\\\\n."
   ]
  },
  {
   "cell_type": "code",
   "execution_count": 100,
   "id": "54fa489d",
   "metadata": {},
   "outputs": [
    {
     "name": "stdout",
     "output_type": "stream",
     "text": [
      "iNeuron's Big Data Course\n",
      "iNeuron's Big Data Course\n"
     ]
    }
   ],
   "source": [
    "#Q33. How can you print the below string?\n",
    "\n",
    "#'iNeuron's Big Data Course'\n",
    "\n",
    "print(\"iNeuron's Big Data Course\")\n",
    "\n",
    "print('iNeuron\\'s Big Data Course') #\\ is escape character"
   ]
  },
  {
   "cell_type": "code",
   "execution_count": 101,
   "id": "f9abfd47",
   "metadata": {},
   "outputs": [
    {
     "ename": "SyntaxError",
     "evalue": "invalid syntax (666813150.py, line 3)",
     "output_type": "error",
     "traceback": [
      "\u001b[1;36m  File \u001b[1;32m\"C:\\Users\\Shweta\\AppData\\Local\\Temp\\ipykernel_17548\\666813150.py\"\u001b[1;36m, line \u001b[1;32m3\u001b[0m\n\u001b[1;33m    A list is a data structure in Python that is a mutable, or changeable, ordered sequence of elements.\u001b[0m\n\u001b[1;37m      ^\u001b[0m\n\u001b[1;31mSyntaxError\u001b[0m\u001b[1;31m:\u001b[0m invalid syntax\n"
     ]
    }
   ],
   "source": [
    "#Q34. What is a list in Python?\n",
    "\n",
    "A list is a data structure in Python that is a mutable, or changeable, ordered sequence of elements. \n",
    "Each element or value that is inside of a list is called an item. \n",
    "Just as strings are defined as characters between quotes,\n",
    "lists are defined by having values between square brackets [ ]"
   ]
  },
  {
   "cell_type": "code",
   "execution_count": 103,
   "id": "cebe06c4",
   "metadata": {},
   "outputs": [
    {
     "data": {
      "text/plain": [
       "['a', 1, 3, 'b']"
      ]
     },
     "execution_count": 103,
     "metadata": {},
     "output_type": "execute_result"
    }
   ],
   "source": [
    "#Q35. How can you create a list in Python?\n",
    "\n",
    "#lists are defined by having values between square brackets [ ]\n",
    "\n",
    "list1 = ['a',1,3,'b']\n",
    "list1"
   ]
  },
  {
   "cell_type": "code",
   "execution_count": 104,
   "id": "d590f9a2",
   "metadata": {},
   "outputs": [
    {
     "data": {
      "text/plain": [
       "3"
      ]
     },
     "execution_count": 104,
     "metadata": {},
     "output_type": "execute_result"
    }
   ],
   "source": [
    "#Q36. How can we access the elements in a list?\n",
    "#To access values in lists, use the square brackets for slicing along with the index or \n",
    "#indices to obtain value available at that index\n",
    "\n",
    "list1[2]  # indexing starts with 0 , this will give third element in list1"
   ]
  },
  {
   "cell_type": "code",
   "execution_count": 105,
   "id": "0ed03307",
   "metadata": {},
   "outputs": [
    {
     "data": {
      "text/plain": [
       "'iNeuron'"
      ]
     },
     "execution_count": 105,
     "metadata": {},
     "output_type": "execute_result"
    }
   ],
   "source": [
    "#Q37. Write a code to access the word \"iNeuron\" from the given list.\n",
    "\n",
    "lst = [1,2,3,\"Hi\",[45,54, \"iNeuron\"], \"Big Data\"]\n",
    "\n",
    "lst[4][2]"
   ]
  },
  {
   "cell_type": "code",
   "execution_count": 109,
   "id": "f2d23302",
   "metadata": {},
   "outputs": [
    {
     "name": "stdout",
     "output_type": "stream",
     "text": [
      "Enter list of alphabets: q h\n"
     ]
    },
    {
     "data": {
      "text/plain": [
       "2"
      ]
     },
     "execution_count": 109,
     "metadata": {},
     "output_type": "execute_result"
    }
   ],
   "source": [
    "#Q38. Take a list as an input from the user and find the length of the list.\n",
    "\n",
    "alphabets = input(\"Enter list of alphabets: \").split()\n",
    "\n",
    "len(alphabets)\n"
   ]
  },
  {
   "cell_type": "code",
   "execution_count": 110,
   "id": "3ee9c95c",
   "metadata": {},
   "outputs": [
    {
     "data": {
      "text/plain": [
       "['Welcome', 'to', 'BigData', 'course']"
      ]
     },
     "execution_count": 110,
     "metadata": {},
     "output_type": "execute_result"
    }
   ],
   "source": [
    "#Q39. Add the word \"Big\" in the 3rd index of the given list.\n",
    "\n",
    "lst = [\"Welcome\", \"to\", \"Data\", \"course\"]\n",
    "\n",
    "lst[2] = \"Big\"+lst[2]\n",
    "\n",
    "lst"
   ]
  },
  {
   "cell_type": "code",
   "execution_count": 111,
   "id": "a0f106f8",
   "metadata": {},
   "outputs": [
    {
     "ename": "SyntaxError",
     "evalue": "invalid syntax (1832248654.py, line 3)",
     "output_type": "error",
     "traceback": [
      "\u001b[1;36m  File \u001b[1;32m\"C:\\Users\\Shweta\\AppData\\Local\\Temp\\ipykernel_17548\\1832248654.py\"\u001b[1;36m, line \u001b[1;32m3\u001b[0m\n\u001b[1;33m    The primary difference between tuples and lists is that tuples are immutable as opposed to lists which are mutable. Therefore, it is possible to change a list but not a tuple.\u001b[0m\n\u001b[1;37m        ^\u001b[0m\n\u001b[1;31mSyntaxError\u001b[0m\u001b[1;31m:\u001b[0m invalid syntax\n"
     ]
    }
   ],
   "source": [
    "#Q40. What is a tuple? How is it different from list?\n",
    "\n",
    "The primary difference between tuples and lists is that tuples are immutable as opposed to lists which are mutable.\n",
    "Therefore, it is possible to change a list but not a tuple. \n",
    "The contents of a tuple cannot change once they have been created in Python due to the immutability of tuples"
   ]
  },
  {
   "cell_type": "code",
   "execution_count": 112,
   "id": "e98f185f",
   "metadata": {},
   "outputs": [
    {
     "ename": "SyntaxError",
     "evalue": "invalid syntax (1236829966.py, line 3)",
     "output_type": "error",
     "traceback": [
      "\u001b[1;36m  File \u001b[1;32m\"C:\\Users\\Shweta\\AppData\\Local\\Temp\\ipykernel_17548\\1236829966.py\"\u001b[1;36m, line \u001b[1;32m3\u001b[0m\n\u001b[1;33m    A tuple is created by placing all the items (elements) inside parentheses (), separated by commas.\u001b[0m\n\u001b[1;37m      ^\u001b[0m\n\u001b[1;31mSyntaxError\u001b[0m\u001b[1;31m:\u001b[0m invalid syntax\n"
     ]
    }
   ],
   "source": [
    "#Q41. How can you create a tuple in Python?\n",
    "\n",
    "A tuple is created by placing all the items (elements) inside parentheses (), separated by commas. "
   ]
  },
  {
   "cell_type": "code",
   "execution_count": 116,
   "id": "94e92542",
   "metadata": {},
   "outputs": [
    {
     "ename": "TypeError",
     "evalue": "'tuple' object does not support item assignment",
     "output_type": "error",
     "traceback": [
      "\u001b[1;31m---------------------------------------------------------------------------\u001b[0m",
      "\u001b[1;31mTypeError\u001b[0m                                 Traceback (most recent call last)",
      "\u001b[1;32m~\\AppData\\Local\\Temp\\ipykernel_17548\\560122918.py\u001b[0m in \u001b[0;36m<module>\u001b[1;34m\u001b[0m\n\u001b[0;32m      2\u001b[0m \u001b[1;33m\u001b[0m\u001b[0m\n\u001b[0;32m      3\u001b[0m \u001b[0mt1\u001b[0m \u001b[1;33m=\u001b[0m \u001b[1;33m(\u001b[0m\u001b[1;34m'A'\u001b[0m\u001b[1;33m,\u001b[0m\u001b[1;34m'B'\u001b[0m\u001b[1;33m,\u001b[0m\u001b[1;34m'C'\u001b[0m\u001b[1;33m)\u001b[0m\u001b[1;33m\u001b[0m\u001b[1;33m\u001b[0m\u001b[0m\n\u001b[1;32m----> 4\u001b[1;33m \u001b[0mt1\u001b[0m\u001b[1;33m[\u001b[0m\u001b[1;36m2\u001b[0m\u001b[1;33m]\u001b[0m \u001b[1;33m=\u001b[0m \u001b[1;34m'Shweta'\u001b[0m\u001b[1;33m\u001b[0m\u001b[1;33m\u001b[0m\u001b[0m\n\u001b[0m",
      "\u001b[1;31mTypeError\u001b[0m: 'tuple' object does not support item assignment"
     ]
    }
   ],
   "source": [
    "#Q42. Create a tuple and try to add your name in the tuple. Are you able to do it? Support your answer with reason.\n",
    "\n",
    "t1 = ('A','B','C')\n",
    "t1[2] = 'Shweta'\n",
    "\n",
    "tuples are immutable, we can not add or remove elements of it once created."
   ]
  },
  {
   "cell_type": "code",
   "execution_count": 123,
   "id": "09e5a06c",
   "metadata": {},
   "outputs": [
    {
     "data": {
      "text/plain": [
       "('A', 'B', 'C', 'Shweta', 'D')"
      ]
     },
     "execution_count": 123,
     "metadata": {},
     "output_type": "execute_result"
    }
   ],
   "source": [
    "#Q43. Can two tuple be appended. If yes, write a code for it. If not, why?\n",
    "# we need to create another tuple for result\n",
    "t1 = ('A','B','C')\n",
    "t2 = (\"Shweta\",\"D\")\n",
    "t3 = t1+t2\n",
    "t3"
   ]
  },
  {
   "cell_type": "code",
   "execution_count": 127,
   "id": "e46a9b49",
   "metadata": {},
   "outputs": [
    {
     "name": "stdout",
     "output_type": "stream",
     "text": [
      "Enter elements1 2 3\n",
      "('1', '2', '3')\n",
      "<class 'tuple'>\n",
      "count of elements :  3\n"
     ]
    }
   ],
   "source": [
    "#Q44. Take a tuple as an input and print the count of elements in it.\n",
    "\n",
    "t4 = tuple(input(\"Enter elements\").split())\n",
    "print(t4)\n",
    "print(type(t4))\n",
    "print(\"count of elements : \", len(t4))"
   ]
  },
  {
   "cell_type": "code",
   "execution_count": 128,
   "id": "28bb6ed8",
   "metadata": {},
   "outputs": [
    {
     "ename": "SyntaxError",
     "evalue": "invalid syntax (1345831552.py, line 3)",
     "output_type": "error",
     "traceback": [
      "\u001b[1;36m  File \u001b[1;32m\"C:\\Users\\Shweta\\AppData\\Local\\Temp\\ipykernel_17548\\1345831552.py\"\u001b[1;36m, line \u001b[1;32m3\u001b[0m\n\u001b[1;33m    Set is one of 4 built-in data types in Python used to store collections of data.\u001b[0m\n\u001b[1;37m               ^\u001b[0m\n\u001b[1;31mSyntaxError\u001b[0m\u001b[1;31m:\u001b[0m invalid syntax\n"
     ]
    }
   ],
   "source": [
    "#Q45. What are sets in Python?\n",
    "\n",
    "Set is one of 4 built-in data types in Python used to store collections of data.\n",
    "A set is a collection which is unordered, unchangeable*, and unindexed.\n",
    "Once a set is created, you cannot change its items, but you can remove items and add new items."
   ]
  },
  {
   "cell_type": "code",
   "execution_count": 158,
   "id": "1619982f",
   "metadata": {},
   "outputs": [
    {
     "name": "stdout",
     "output_type": "stream",
     "text": [
      "{'banana', 'cherry', 'apple'}\n"
     ]
    },
    {
     "data": {
      "text/plain": [
       "set"
      ]
     },
     "execution_count": 158,
     "metadata": {},
     "output_type": "execute_result"
    }
   ],
   "source": [
    "#Q46. How can you create a set?\n",
    "#Sets are written with curly brackets.\n",
    "\n",
    "fruits = {\"apple\", \"banana\", \"cherry\"}\n",
    "print(fruits)\n",
    "type(fruits)"
   ]
  },
  {
   "cell_type": "code",
   "execution_count": 159,
   "id": "4cf36bd8",
   "metadata": {},
   "outputs": [
    {
     "name": "stdout",
     "output_type": "stream",
     "text": [
      "{'banana', 'cherry', 'iNeuron', 'apple'}\n"
     ]
    }
   ],
   "source": [
    "#Q47. Create a set and add \"iNeuron\" in your set.\n",
    "\n",
    "fruits.add(\"iNeuron\")\n",
    "print(fruits)"
   ]
  },
  {
   "cell_type": "code",
   "execution_count": 149,
   "id": "ed54e2a3",
   "metadata": {},
   "outputs": [
    {
     "ename": "TypeError",
     "evalue": "set.add() takes exactly one argument (2 given)",
     "output_type": "error",
     "traceback": [
      "\u001b[1;31m---------------------------------------------------------------------------\u001b[0m",
      "\u001b[1;31mTypeError\u001b[0m                                 Traceback (most recent call last)",
      "\u001b[1;32m~\\AppData\\Local\\Temp\\ipykernel_17548\\3222028543.py\u001b[0m in \u001b[0;36m<module>\u001b[1;34m\u001b[0m\n\u001b[0;32m      3\u001b[0m \u001b[1;31m# getting error TypeError: set.add() takes exactly one argument (2 given)\u001b[0m\u001b[1;33m\u001b[0m\u001b[1;33m\u001b[0m\u001b[0m\n\u001b[0;32m      4\u001b[0m \u001b[1;33m\u001b[0m\u001b[0m\n\u001b[1;32m----> 5\u001b[1;33m \u001b[0mfruits\u001b[0m\u001b[1;33m.\u001b[0m\u001b[0madd\u001b[0m\u001b[1;33m(\u001b[0m\u001b[1;34m\"chiku\"\u001b[0m\u001b[1;33m,\u001b[0m\u001b[1;34m\"lemon\"\u001b[0m\u001b[1;33m)\u001b[0m\u001b[1;33m\u001b[0m\u001b[1;33m\u001b[0m\u001b[0m\n\u001b[0m\u001b[0;32m      6\u001b[0m \u001b[0mprint\u001b[0m\u001b[1;33m(\u001b[0m\u001b[0mfruits\u001b[0m\u001b[1;33m)\u001b[0m\u001b[1;33m\u001b[0m\u001b[1;33m\u001b[0m\u001b[0m\n",
      "\u001b[1;31mTypeError\u001b[0m: set.add() takes exactly one argument (2 given)"
     ]
    }
   ],
   "source": [
    "#Q48. Try to add multiple values using add() function.\n",
    "\n",
    "# getting error TypeError: set.add() takes exactly one argument (2 given)\n",
    "\n",
    "fruits.add(\"chiku\",\"lemon\")\n",
    "print(fruits)\n"
   ]
  },
  {
   "cell_type": "code",
   "execution_count": 160,
   "id": "55b44e14",
   "metadata": {},
   "outputs": [
    {
     "name": "stdout",
     "output_type": "stream",
     "text": [
      "{'chiku', 'lemon', 'cherry', 'iNeuron', 'banana', 'apple'}\n"
     ]
    }
   ],
   "source": [
    "#Q49. How is update() different from add()?\n",
    "\"\"\"1.add() function use to add a single element. update() function is use to add multiple elements to the set.\n",
    "2. add() is faster than update().\n",
    "As add() function add a single element to the set, whereas update() function iterates over the given sequences \n",
    "and adds them to the set.Therefore, as compared to update() function, add() is better in performance.\n",
    "3. add () accepts immutable parameters only. Whereas update() accepts iterable sequences.\n",
    "add() function accepts an immutable argument i.e. we can pass int, strings, bytes, frozen sets, tuples \n",
    "or any other immutable object to the add() function.\n",
    "So if we try to pass a mutable object like list to the add() function, then it will give error.\n",
    "Whereas update() function expects iterable sequences only. \n",
    "For example if we pass a list to the update() function, then it will add all the elements in list to the set,\n",
    "4. add() accepts a single parameter, whereas update() can accept multiple sequences.\n",
    "While calling add() function, we can pass only one argument and it will add that element to the set. \n",
    "Whereas, while calling update() function, we can pass multiple arguments i.e. multiple iterable sequences\"\"\"\n",
    "\n",
    "fruits.update([\"chiku\",\"lemon\"])\n",
    "print(fruits)"
   ]
  },
  {
   "cell_type": "code",
   "execution_count": 157,
   "id": "7ebf7464",
   "metadata": {},
   "outputs": [
    {
     "name": "stdout",
     "output_type": "stream",
     "text": [
      "set()\n"
     ]
    }
   ],
   "source": [
    "#Q50. What is clear() in sets?\n",
    "#clear() method removes all elements from the set.\n",
    "\n",
    "fruits.clear()\n",
    "print(fruits)"
   ]
  },
  {
   "cell_type": "code",
   "execution_count": 161,
   "id": "6f95195e",
   "metadata": {},
   "outputs": [
    {
     "ename": "SyntaxError",
     "evalue": "invalid syntax (1119804489.py, line 3)",
     "output_type": "error",
     "traceback": [
      "\u001b[1;36m  File \u001b[1;32m\"C:\\Users\\Shweta\\AppData\\Local\\Temp\\ipykernel_17548\\1119804489.py\"\u001b[1;36m, line \u001b[1;32m3\u001b[0m\n\u001b[1;33m    Frozen set is just an immutable version of a Python set object.\u001b[0m\n\u001b[1;37m           ^\u001b[0m\n\u001b[1;31mSyntaxError\u001b[0m\u001b[1;31m:\u001b[0m invalid syntax\n"
     ]
    }
   ],
   "source": [
    "#Q51. What is frozen set?\n",
    "\n",
    "Frozen set is just an immutable version of a Python set object. \n",
    "While elements of a set can be modified at any time, elements of the frozen set remain the same after creation. \n",
    "Due to this, frozen sets can be used as keys in Dictionary or as elements of another set."
   ]
  },
  {
   "cell_type": "code",
   "execution_count": 162,
   "id": "431db9f6",
   "metadata": {},
   "outputs": [
    {
     "ename": "IndentationError",
     "evalue": "unexpected indent (1887577233.py, line 3)",
     "output_type": "error",
     "traceback": [
      "\u001b[1;36m  File \u001b[1;32m\"C:\\Users\\Shweta\\AppData\\Local\\Temp\\ipykernel_17548\\1887577233.py\"\u001b[1;36m, line \u001b[1;32m3\u001b[0m\n\u001b[1;33m    A set is a mutable object while frozenset provides an immutable implementation\u001b[0m\n\u001b[1;37m    ^\u001b[0m\n\u001b[1;31mIndentationError\u001b[0m\u001b[1;31m:\u001b[0m unexpected indent\n"
     ]
    }
   ],
   "source": [
    "#Q52. How is frozen set different from set?\n",
    "\n",
    " A set is a mutable object while frozenset provides an immutable implementation"
   ]
  },
  {
   "cell_type": "code",
   "execution_count": 164,
   "id": "d2715695",
   "metadata": {},
   "outputs": [
    {
     "data": {
      "text/plain": [
       "{'apple', 'banana', 'cherry', 'chiku', 'mango'}"
      ]
     },
     "execution_count": 164,
     "metadata": {},
     "output_type": "execute_result"
    }
   ],
   "source": [
    "#Q53. What is union() in sets? Explain via code.\n",
    "\n",
    "\"\"\"Union of two given sets is the set which contains all the elements of both the sets. \n",
    "The union of two given sets A and B is a set which consists of all the elements of A \n",
    "and all the elements of B such that no element is repeated.\"\"\"\n",
    "\n",
    "fruits1 = {\"apple\",\"banana\",\"chiku\"}\n",
    "fruits2 = {\"cherry\",\"mango\",\"banana\"}\n",
    "fruits3 = fruits1.union(fruits2)  \n",
    "# fruits3 will have all element from fruits1 and fruits2 with out repeatition,banana is appeared only once.\n",
    "fruits3"
   ]
  },
  {
   "cell_type": "code",
   "execution_count": 165,
   "id": "5a607c20",
   "metadata": {},
   "outputs": [
    {
     "data": {
      "text/plain": [
       "{'banana'}"
      ]
     },
     "execution_count": 165,
     "metadata": {},
     "output_type": "execute_result"
    }
   ],
   "source": [
    "#Q54. What is intersection() in sets? Explain via code.\n",
    "#The intersection of two given sets A and B is a set which consists of all the elements which are common to both A and B.\n",
    "\n",
    "fruits1 = {\"apple\",\"banana\",\"chiku\"}\n",
    "fruits2 = {\"cherry\",\"mango\",\"banana\"}\n",
    "fruits3 = fruits1.intersection(fruits2) \n",
    "# fruits3 will have common elements between fruits1 and fruits2 i.e, \"banana\"                                 \n",
    "fruits3"
   ]
  },
  {
   "cell_type": "code",
   "execution_count": 166,
   "id": "0134b28e",
   "metadata": {},
   "outputs": [
    {
     "ename": "SyntaxError",
     "evalue": "invalid syntax (2685689812.py, line 3)",
     "output_type": "error",
     "traceback": [
      "\u001b[1;36m  File \u001b[1;32m\"C:\\Users\\Shweta\\AppData\\Local\\Temp\\ipykernel_17548\\2685689812.py\"\u001b[1;36m, line \u001b[1;32m3\u001b[0m\n\u001b[1;33m    A dictionary is a kind of data structure that stores items in key-value pairs.\u001b[0m\n\u001b[1;37m      ^\u001b[0m\n\u001b[1;31mSyntaxError\u001b[0m\u001b[1;31m:\u001b[0m invalid syntax\n"
     ]
    }
   ],
   "source": [
    "#Q55. What is dictionary ibn Python?\n",
    "\n",
    "A dictionary is a kind of data structure that stores items in key-value pairs. \n",
    "A key is a unique identifier for an item, and a value is the data associated with that key.\n",
    "Dictionaries are mutable in Python, which means they can be changed after they are created. \n",
    "They are also unordered, indicating the items in a dictionary are not stored in any particular order."
   ]
  },
  {
   "cell_type": "code",
   "execution_count": 167,
   "id": "347b5f3b",
   "metadata": {},
   "outputs": [
    {
     "ename": "SyntaxError",
     "evalue": "invalid syntax (702330078.py, line 2)",
     "output_type": "error",
     "traceback": [
      "\u001b[1;36m  File \u001b[1;32m\"C:\\Users\\Shweta\\AppData\\Local\\Temp\\ipykernel_17548\\702330078.py\"\u001b[1;36m, line \u001b[1;32m2\u001b[0m\n\u001b[1;33m    Dictionary stores items in key-value pairs.\u001b[0m\n\u001b[1;37m               ^\u001b[0m\n\u001b[1;31mSyntaxError\u001b[0m\u001b[1;31m:\u001b[0m invalid syntax\n"
     ]
    }
   ],
   "source": [
    "#Q56. How is dictionary different from all other data structures.\n",
    "Dictionary stores items in key-value pairs. \n",
    "A key is a unique identifier for an item, and a value is the data associated with that key\n"
   ]
  },
  {
   "cell_type": "code",
   "execution_count": 174,
   "id": "cc823ae6",
   "metadata": {},
   "outputs": [
    {
     "data": {
      "text/plain": [
       "{1: 'apple', 2: 'banana'}"
      ]
     },
     "execution_count": 174,
     "metadata": {},
     "output_type": "execute_result"
    }
   ],
   "source": [
    "#Q57. How can we delare a dictionary in Python?\n",
    "\n",
    "\"\"\"Dictionaries are created using curly braces {}. \n",
    "The key is on the left side of the colon (:) and the value is on the right. \n",
    "A comma separates each key-value pair.\"\"\"\n",
    "\n",
    "my_dict = {1: 'apple', 2: 'banana'}\n",
    "my_dict"
   ]
  },
  {
   "cell_type": "code",
   "execution_count": 170,
   "id": "a1654244",
   "metadata": {},
   "outputs": [
    {
     "name": "stdout",
     "output_type": "stream",
     "text": [
      "<class 'dict'>\n"
     ]
    }
   ],
   "source": [
    "#Q58. What will the output of the following?\n",
    "#<class 'dict'>\n",
    "\n",
    "var = {}\n",
    "print(type(var))"
   ]
  },
  {
   "cell_type": "code",
   "execution_count": 175,
   "id": "063fc286",
   "metadata": {},
   "outputs": [
    {
     "data": {
      "text/plain": [
       "{1: 'apple', 2: 'banana', 3: 'cherry'}"
      ]
     },
     "execution_count": 175,
     "metadata": {},
     "output_type": "execute_result"
    }
   ],
   "source": [
    "#Q59. How can we add an element in a dictionary?\n",
    "#Adding an item to the dictionary is done by using a new index key and assigning a value to it:\n",
    "\n",
    "my_dict[3] = 'cherry'\n",
    "my_dict"
   ]
  },
  {
   "cell_type": "code",
   "execution_count": 177,
   "id": "7da2ad86",
   "metadata": {},
   "outputs": [
    {
     "data": {
      "text/plain": [
       "dict_values(['A', 'B', 'C'])"
      ]
     },
     "execution_count": 177,
     "metadata": {},
     "output_type": "execute_result"
    }
   ],
   "source": [
    "#Q60. Create a dictionary and access all the values in that dictionary.\n",
    "\n",
    "my_dict1 = {1: 'A',2: 'B',3: 'C'}\n",
    "my_dict1.values()"
   ]
  },
  {
   "cell_type": "code",
   "execution_count": 190,
   "id": "d00912aa",
   "metadata": {},
   "outputs": [
    {
     "data": {
      "text/plain": [
       "dict_values(['D', 'E'])"
      ]
     },
     "execution_count": 190,
     "metadata": {},
     "output_type": "execute_result"
    }
   ],
   "source": [
    "#Q61. Create a nested dictionary and access all the element in the inner dictionary.\n",
    "\n",
    "my_dict1 = {1: 'A',2: 'B',3: 'C',4:{4.1:'D',4.2:'E'}}\n",
    "# created nested dictionary for key 4 , can access all values of this nested dictionary using below\n",
    "my_dict1[4].values()"
   ]
  },
  {
   "cell_type": "code",
   "execution_count": 183,
   "id": "b163a06d",
   "metadata": {},
   "outputs": [
    {
     "name": "stdout",
     "output_type": "stream",
     "text": [
      "C\n"
     ]
    }
   ],
   "source": [
    "#Q62. What is the use of get() function?\n",
    "#The get() method returns the value of the item with the specified key.\n",
    "\n",
    "a = my_dict1.get(3)\n",
    "print(a)"
   ]
  },
  {
   "cell_type": "code",
   "execution_count": 187,
   "id": "d301dc33",
   "metadata": {},
   "outputs": [
    {
     "name": "stdout",
     "output_type": "stream",
     "text": [
      "dict_items([(1, 'A'), (2, 'B'), (3, 'C'), (4, {4.1: 'D', 4.2: 'E'})])\n"
     ]
    }
   ],
   "source": [
    "#Q63. What is the use of items() function?\n",
    "\n",
    "#The items() method will return each item in a dictionary, as tuples in a list.\n",
    "\n",
    "b = my_dict1.items()\n",
    "print(b)\n",
    "\n"
   ]
  },
  {
   "cell_type": "code",
   "execution_count": 191,
   "id": "a83dac61",
   "metadata": {},
   "outputs": [
    {
     "data": {
      "text/plain": [
       "{1: 'A', 2: 'B', 3: 'C'}"
      ]
     },
     "execution_count": 191,
     "metadata": {},
     "output_type": "execute_result"
    }
   ],
   "source": [
    "#Q64. What is the use of pop() function?\n",
    "\n",
    "#pop() method removes the item with the specified key name:\n",
    "\n",
    "my_dict1.pop(4)\n",
    "my_dict1\n"
   ]
  },
  {
   "cell_type": "code",
   "execution_count": 197,
   "id": "d58e4105",
   "metadata": {},
   "outputs": [
    {
     "name": "stdout",
     "output_type": "stream",
     "text": [
      "before popitem : \n",
      "{1: 'A', 2: 'B', 3: 'C', 5: 'F'}\n",
      "after popitem : \n",
      "{1: 'A', 2: 'B', 3: 'C'}\n"
     ]
    }
   ],
   "source": [
    "#Q65. What is the use of popitems() function?\n",
    "#The popitem() method removes the last inserted item \n",
    "\n",
    "my_dict1[5] = 'F'\n",
    "\n",
    "print(\"before popitem : \")\n",
    "print(my_dict1)\n",
    "\n",
    "my_dict1.popitem()\n",
    "\n",
    "print(\"after popitem : \")\n",
    "print(my_dict1)\n",
    "\n",
    "#last added item 5 is removed from dictionary"
   ]
  },
  {
   "cell_type": "code",
   "execution_count": 198,
   "id": "e6bb902a",
   "metadata": {},
   "outputs": [
    {
     "data": {
      "text/plain": [
       "dict_keys([1, 2, 3])"
      ]
     },
     "execution_count": 198,
     "metadata": {},
     "output_type": "execute_result"
    }
   ],
   "source": [
    "#Q66. What is the use of keys() function?\n",
    "# give list of all the keys of dictionary\n",
    "my_dict1.keys()"
   ]
  },
  {
   "cell_type": "code",
   "execution_count": 199,
   "id": "42bfc699",
   "metadata": {},
   "outputs": [
    {
     "data": {
      "text/plain": [
       "dict_values(['A', 'B', 'C'])"
      ]
     },
     "execution_count": 199,
     "metadata": {},
     "output_type": "execute_result"
    }
   ],
   "source": [
    "#Q67. What is the use of values() function?\n",
    "# give list of all the values of dictionary\n",
    "my_dict1.values()"
   ]
  },
  {
   "cell_type": "code",
   "execution_count": 200,
   "id": "7d5894ac",
   "metadata": {},
   "outputs": [
    {
     "ename": "SyntaxError",
     "evalue": "invalid syntax (2386067963.py, line 3)",
     "output_type": "error",
     "traceback": [
      "\u001b[1;36m  File \u001b[1;32m\"C:\\Users\\Shweta\\AppData\\Local\\Temp\\ipykernel_17548\\2386067963.py\"\u001b[1;36m, line \u001b[1;32m3\u001b[0m\n\u001b[1;33m    Loops are used for iteration.\u001b[0m\n\u001b[1;37m          ^\u001b[0m\n\u001b[1;31mSyntaxError\u001b[0m\u001b[1;31m:\u001b[0m invalid syntax\n"
     ]
    }
   ],
   "source": [
    "#Q68. What are loops in Python?\n",
    "#Q69. How many type of loop are there in Python?\n",
    "A loop is an instruction that executes a statement until a specific condition is reached. \n",
    "The number of times the loop repeats itself is known as iteration\n",
    "\n",
    "Python has two primitive loop commands:\n",
    "1.while loops:\n",
    "2.for loops\n",
    "\n",
    "With the while loop we can execute a set of statements as long as a condition is true.\n",
    "A for loop is used for iterating over a sequence (that is either a list, a tuple, a dictionary, a set, or a string).\n"
   ]
  },
  {
   "cell_type": "code",
   "execution_count": 201,
   "id": "bea03c18",
   "metadata": {},
   "outputs": [
    {
     "ename": "SyntaxError",
     "evalue": "invalid syntax (3656080504.py, line 3)",
     "output_type": "error",
     "traceback": [
      "\u001b[1;36m  File \u001b[1;32m\"C:\\Users\\Shweta\\AppData\\Local\\Temp\\ipykernel_17548\\3656080504.py\"\u001b[1;36m, line \u001b[1;32m3\u001b[0m\n\u001b[1;33m    1. for loop is used when Number of iterations already known\u001b[0m\n\u001b[1;37m       ^\u001b[0m\n\u001b[1;31mSyntaxError\u001b[0m\u001b[1;31m:\u001b[0m invalid syntax\n"
     ]
    }
   ],
   "source": [
    "#Q70. What is the difference between for and while loops?\n",
    "\n",
    "1. for loop is used when Number of iterations already known \n",
    "where as while is used when No prior information on the number of iterations.\n",
    "2. For loop is faster than while loop\n",
    "3. In absence of condition for Loop runs infinite times.\n",
    "where as while loop Display the compile time error.\n",
    "4. In the case of a for loop, the initialization is done once at the start, so there is no need to initialize it again. \n",
    "But in the case of a while loop, we require to initialize the loop manually by taking a variable that is further modified \n",
    "(incremented, decremented, multiplied, etc.) as per our requirement."
   ]
  },
  {
   "cell_type": "code",
   "execution_count": 202,
   "id": "283648a3",
   "metadata": {},
   "outputs": [
    {
     "ename": "SyntaxError",
     "evalue": "invalid syntax (3490854591.py, line 3)",
     "output_type": "error",
     "traceback": [
      "\u001b[1;36m  File \u001b[1;32m\"C:\\Users\\Shweta\\AppData\\Local\\Temp\\ipykernel_17548\\3490854591.py\"\u001b[1;36m, line \u001b[1;32m3\u001b[0m\n\u001b[1;33m    The continue keyword is used to end the current iteration in a for loop (or a while loop),\u001b[0m\n\u001b[1;37m        ^\u001b[0m\n\u001b[1;31mSyntaxError\u001b[0m\u001b[1;31m:\u001b[0m invalid syntax\n"
     ]
    }
   ],
   "source": [
    "#Q71. What is the use of continue statement?\n",
    "\n",
    "The continue keyword is used to end the current iteration in a for loop (or a while loop), \n",
    "and continues to the next iteration."
   ]
  },
  {
   "cell_type": "code",
   "execution_count": 203,
   "id": "4e86b403",
   "metadata": {},
   "outputs": [
    {
     "ename": "SyntaxError",
     "evalue": "invalid syntax (2243400022.py, line 3)",
     "output_type": "error",
     "traceback": [
      "\u001b[1;36m  File \u001b[1;32m\"C:\\Users\\Shweta\\AppData\\Local\\Temp\\ipykernel_17548\\2243400022.py\"\u001b[1;36m, line \u001b[1;32m3\u001b[0m\n\u001b[1;33m    'Break' in Python is a loop control statement.\u001b[0m\n\u001b[1;37m                           ^\u001b[0m\n\u001b[1;31mSyntaxError\u001b[0m\u001b[1;31m:\u001b[0m invalid syntax\n"
     ]
    }
   ],
   "source": [
    "#Q72. What is the use of break statement?\n",
    "\n",
    "'Break' in Python is a loop control statement. \n",
    "It is used to control the sequence of the loop.\n",
    "It will terminate a loop and skip to the next code after the loop"
   ]
  },
  {
   "cell_type": "code",
   "execution_count": 204,
   "id": "60e828b8",
   "metadata": {},
   "outputs": [
    {
     "ename": "SyntaxError",
     "evalue": "invalid syntax (1783007395.py, line 2)",
     "output_type": "error",
     "traceback": [
      "\u001b[1;36m  File \u001b[1;32m\"C:\\Users\\Shweta\\AppData\\Local\\Temp\\ipykernel_17548\\1783007395.py\"\u001b[1;36m, line \u001b[1;32m2\u001b[0m\n\u001b[1;33m    pass statement is used as a placeholder for future code.\u001b[0m\n\u001b[1;37m         ^\u001b[0m\n\u001b[1;31mSyntaxError\u001b[0m\u001b[1;31m:\u001b[0m invalid syntax\n"
     ]
    }
   ],
   "source": [
    "#Q73. What is the use of pass statement?\n",
    "pass statement is used as a placeholder for future code. \n",
    "When the pass statement is executed, nothing happens, but you avoid getting an error when empty code is not allowed."
   ]
  },
  {
   "cell_type": "code",
   "execution_count": 205,
   "id": "032c163c",
   "metadata": {},
   "outputs": [
    {
     "ename": "SyntaxError",
     "evalue": "invalid syntax (2097631988.py, line 3)",
     "output_type": "error",
     "traceback": [
      "\u001b[1;36m  File \u001b[1;32m\"C:\\Users\\Shweta\\AppData\\Local\\Temp\\ipykernel_17548\\2097631988.py\"\u001b[1;36m, line \u001b[1;32m3\u001b[0m\n\u001b[1;33m    The range() function returns a sequence of numbers, starting from 0 by default, and increments by 1 (by default)\u001b[0m\n\u001b[1;37m        ^\u001b[0m\n\u001b[1;31mSyntaxError\u001b[0m\u001b[1;31m:\u001b[0m invalid syntax\n"
     ]
    }
   ],
   "source": [
    "#Q74. What is the use of range() function?\n",
    "\n",
    "The range() function returns a sequence of numbers, starting from 0 by default, and increments by 1 (by default)\n",
    ", and stops before a specified number."
   ]
  },
  {
   "cell_type": "code",
   "execution_count": 208,
   "id": "be5a6402",
   "metadata": {},
   "outputs": [
    {
     "name": "stdout",
     "output_type": "stream",
     "text": [
      "apple\n",
      "banana\n",
      "cherry\n"
     ]
    }
   ],
   "source": [
    "#Q75. How can you loop over a dictionary?\n",
    "\n",
    "for i in my_dict:\n",
    "    print(my_dict[i])"
   ]
  },
  {
   "cell_type": "code",
   "execution_count": 216,
   "id": "8e2959e5",
   "metadata": {},
   "outputs": [
    {
     "data": {
      "text/plain": [
       "5040"
      ]
     },
     "execution_count": 216,
     "metadata": {},
     "output_type": "execute_result"
    }
   ],
   "source": [
    "#Q76. Write a Python program to find the factorial of a given number.\n",
    "\n",
    "def fact(number):\n",
    "    factorial = 1\n",
    "    if(number < 0):\n",
    "        print(\"factorial does not exist for negative numbers\")\n",
    "    elif(number == 0):\n",
    "        print(\"factorial of 0 is 1\")\n",
    "    else:\n",
    "        while(number>0):\n",
    "            factorial = factorial*number\n",
    "            number = number - 1\n",
    "    return factorial\n",
    "\n",
    "fact(7)"
   ]
  },
  {
   "cell_type": "code",
   "execution_count": 219,
   "id": "c1323d73",
   "metadata": {},
   "outputs": [
    {
     "name": "stdout",
     "output_type": "stream",
     "text": [
      "The principal is 1500\n",
      "The time period is 2\n",
      "The rate of interest is 8\n",
      "Simple interest is 240.0\n"
     ]
    },
    {
     "data": {
      "text/plain": [
       "240.0"
      ]
     },
     "execution_count": 219,
     "metadata": {},
     "output_type": "execute_result"
    }
   ],
   "source": [
    "#Q77. Write a Python program to calculate the simple interest. Formula to calculate simple interest is SI = (PRT)/100\n",
    "\n",
    "def calc_SI(p,r,t):\n",
    "    print('The principal is', p)\n",
    "    print('The time period is', t)\n",
    "    print('The rate of interest is',r)\n",
    "    simple_interest = p*r*t/100\n",
    "    print('Simple interest is',simple_interest)\n",
    "    return simple_interest\n",
    "\n",
    "calc_SI(1500,8,2)"
   ]
  },
  {
   "cell_type": "code",
   "execution_count": 224,
   "id": "3ee5bc2b",
   "metadata": {},
   "outputs": [
    {
     "name": "stdout",
     "output_type": "stream",
     "text": [
      "The principal is 1500\n",
      "The time period is 2\n",
      "The rate of interest is 8\n",
      "Compound interest is 249.60000000000014\n"
     ]
    },
    {
     "data": {
      "text/plain": [
       "249.60000000000014"
      ]
     },
     "execution_count": 224,
     "metadata": {},
     "output_type": "execute_result"
    }
   ],
   "source": [
    "#Q78. Write a Python program to calculate the compound interest. Formula of compound interest is A = P(1+ R/100)^t.\n",
    "def calc_CI(p,r,t):\n",
    "    print('The principal is', p)\n",
    "    print('The time period is', t)\n",
    "    print('The rate of interest is',r)\n",
    "    Amt = p * (pow((1 + r / 100), t))\n",
    "    CI = Amt - p\n",
    "    print('Compound interest is',CI)\n",
    "    return CI\n",
    "\n",
    "calc_CI(1500,8,2)\n"
   ]
  },
  {
   "cell_type": "code",
   "execution_count": 240,
   "id": "e0e6f974",
   "metadata": {},
   "outputs": [
    {
     "name": "stdout",
     "output_type": "stream",
     "text": [
      "7  is prime\n"
     ]
    }
   ],
   "source": [
    "#Q79. Write a Python program to check if a number is prime or not.\n",
    "\n",
    "def is_prime(number):    \n",
    "    if number == 1:\n",
    "        print(number, \"is not a prime number\")\n",
    "    elif number > 1:\n",
    "        for i in range(2,number):\n",
    "            if(number%i == 0):\n",
    "                print(number,\" is not prime\")\n",
    "                print(number,\" is divisible by \",i)\n",
    "                break\n",
    "        else:\n",
    "            print(number,\" is prime\")\n",
    "    else:\n",
    "        print(number, \"is not a prime number\")\n",
    "        \n",
    "is_prime(7)\n",
    "            \n",
    "        "
   ]
  },
  {
   "cell_type": "code",
   "execution_count": 276,
   "id": "20a4e44b",
   "metadata": {},
   "outputs": [
    {
     "name": "stdout",
     "output_type": "stream",
     "text": [
      "4\n",
      "[4, 7, 4, 9]\n",
      "9474 is an armstrong number\n"
     ]
    }
   ],
   "source": [
    "#Q80. Write a Python program to check Armstrong Number.\n",
    "\n",
    "def digit_count(number):\n",
    "    \n",
    "    digit_count = 0\n",
    "    digit_number = []\n",
    "    while (number != 0):\n",
    "        digit = number%10\n",
    "        digit_count = digit_count + 1\n",
    "        digit_number.append(digit)\n",
    "        number = number//10\n",
    "        \n",
    "    return digit_count,digit_number\n",
    "\n",
    "def is_armstrong(number):\n",
    "    \n",
    "    y,digit_number = digit_count(number) # this function will return number of digits in number and its digits\n",
    "    \n",
    "    #print(y)\n",
    "    #print(digit_number)\n",
    "    \n",
    "    digit_sum = 0\n",
    "    \n",
    "      \n",
    "    for i in digit_number:\n",
    "        digit_sum = digit_sum + pow(i,y)\n",
    "    \n",
    "    if(digit_sum == number):\n",
    "        print(number, \"is an armstrong number\")\n",
    "    else:\n",
    "        print(number, \"is not an armstrong number\")\n",
    "        \n",
    "#digit_count(153)       \n",
    "is_armstrong(9474)"
   ]
  },
  {
   "cell_type": "code",
   "execution_count": 282,
   "id": "3f052220",
   "metadata": {},
   "outputs": [
    {
     "data": {
      "text/plain": [
       "34"
      ]
     },
     "execution_count": 282,
     "metadata": {},
     "output_type": "execute_result"
    }
   ],
   "source": [
    "#Q81. Write a Python program to find the n-th Fibonacci Number.\n",
    "\n",
    "def Fibo(n):   \n",
    "    \n",
    "    if n < 0:  \n",
    "        print(\"Number should greater than 0\")  \n",
    "    elif n == 0:   \n",
    "        return (0)   \n",
    "    elif n == 1:  \n",
    "        return (1)  \n",
    "    else:  \n",
    "        return (Fibo(n - 1) + Fibo(n - 2))   \n",
    "\n",
    "Fibo(9)  "
   ]
  },
  {
   "cell_type": "code",
   "execution_count": 284,
   "id": "c9065378",
   "metadata": {},
   "outputs": [
    {
     "data": {
      "text/plain": [
       "[7, 6, 8, 3]"
      ]
     },
     "execution_count": 284,
     "metadata": {},
     "output_type": "execute_result"
    }
   ],
   "source": [
    "#Q82. Write a Python program to interchange the first and last element in a list.\n",
    "\n",
    "def interchange(l):\n",
    "    first = l[0]\n",
    "    last = l[-1]\n",
    "\n",
    "    l[0] = last\n",
    "    l[-1] = first\n",
    "\n",
    "    return l\n",
    "\n",
    "\n",
    "interchange([3,6,8,7])"
   ]
  },
  {
   "cell_type": "code",
   "execution_count": 287,
   "id": "cfee1951",
   "metadata": {},
   "outputs": [
    {
     "name": "stdout",
     "output_type": "stream",
     "text": [
      "swap  0 th element with  3 th\n"
     ]
    },
    {
     "data": {
      "text/plain": [
       "[4, 2, 3, 1]"
      ]
     },
     "execution_count": 287,
     "metadata": {},
     "output_type": "execute_result"
    }
   ],
   "source": [
    "#Q83. Write a Python program to swap two elements in a list.\n",
    "\n",
    "def swap(l,m,n):\n",
    "    print(\"swap \",m,\"th element with \",n,\"th\")\n",
    "    \n",
    "    pre = l[m]\n",
    "    new = l[n]\n",
    "    \n",
    "    l[m] = new\n",
    "    l[n] = pre\n",
    "    \n",
    "    return l\n",
    "\n",
    "swap([1,2,3,4],0,3)"
   ]
  },
  {
   "cell_type": "code",
   "execution_count": 300,
   "id": "eaf0e991",
   "metadata": {},
   "outputs": [
    {
     "name": "stdout",
     "output_type": "stream",
     "text": [
      "input list is :  [1, 200, 3, 4, 8, 100]\n",
      "3 th largest element in list is :  8\n"
     ]
    },
    {
     "data": {
      "text/plain": [
       "8"
      ]
     },
     "execution_count": 300,
     "metadata": {},
     "output_type": "execute_result"
    }
   ],
   "source": [
    "#Q84. Write a Python program to find N largest element from a list.\n",
    "\n",
    "def large(l,n):\n",
    "    print(\"input list is : \",l)\n",
    "    #print(\"input n value is : \",n)\n",
    "    \n",
    "    l.sort(reverse = True)\n",
    "    large_value = l[n-1]\n",
    "    \n",
    "    print(n,\"th largest element in list is : \",large_value)\n",
    "    return large_value\n",
    "\n",
    "large([1,200,3,4,8,100],3)"
   ]
  },
  {
   "cell_type": "code",
   "execution_count": 302,
   "id": "e8815cbd",
   "metadata": {},
   "outputs": [
    {
     "name": "stdout",
     "output_type": "stream",
     "text": [
      "input list is :  [1, 2, 3, 3]\n"
     ]
    },
    {
     "data": {
      "text/plain": [
       "9"
      ]
     },
     "execution_count": 302,
     "metadata": {},
     "output_type": "execute_result"
    }
   ],
   "source": [
    "#Q85. Write a Python program to find cumulative sum of a list.\n",
    "\n",
    "def cum_sum(l):\n",
    "    print(\"input list is : \",l)\n",
    "    cum_sum = 0\n",
    "    \n",
    "    for i in l:\n",
    "        cum_sum = cum_sum + i\n",
    "        \n",
    "    return cum_sum\n",
    "\n",
    "cum_sum([1,2,3,3])"
   ]
  },
  {
   "cell_type": "code",
   "execution_count": 309,
   "id": "4661e1a7",
   "metadata": {},
   "outputs": [
    {
     "name": "stdout",
     "output_type": "stream",
     "text": [
      "ABCBA  is palindrome\n"
     ]
    }
   ],
   "source": [
    "#Q86. Write a Python program to check if a string is palindrome or not.\n",
    "\n",
    "def is_palindrome(s):\n",
    "    new_str = ''\n",
    "    for i in s[::-1]:\n",
    "        new_str = new_str + i\n",
    "        \n",
    "    if (new_str == s):\n",
    "        print(s,\" is palindrome\")\n",
    "    else:\n",
    "        print(s,\" is not palindrome\")\n",
    "\n",
    "is_palindrome(\"ABCBA\")"
   ]
  },
  {
   "cell_type": "code",
   "execution_count": 325,
   "id": "b20b0b65",
   "metadata": {},
   "outputs": [
    {
     "name": "stdout",
     "output_type": "stream",
     "text": [
      "input string is :  ABCDEFGH\n",
      "before removing  5 th element from string\n"
     ]
    },
    {
     "data": {
      "text/plain": [
       "'ABCDFGH'"
      ]
     },
     "execution_count": 325,
     "metadata": {},
     "output_type": "execute_result"
    }
   ],
   "source": [
    "#Q87. Write a Python program to remove i'th element from a string.\n",
    "\n",
    "def r_element(s,n):\n",
    "    print(\"input string is : \",s)\n",
    "    print(\"before removing \",n,\"th element from string\")\n",
    "    s_bef = s[0:n-1] # will contain string before nth element\n",
    "    s_aft = s[n:] # will contain string after nth element\n",
    "    \n",
    "    new_str = s_bef + s_aft\n",
    "    return new_str\n",
    "\n",
    "r_element(\"ABCDEFGH\",5)"
   ]
  },
  {
   "cell_type": "code",
   "execution_count": 332,
   "id": "2818719d",
   "metadata": {},
   "outputs": [
    {
     "name": "stdout",
     "output_type": "stream",
     "text": [
      "input string is :  ABCD\n",
      "input substring is :  E\n",
      "E not present in ABCD\n"
     ]
    }
   ],
   "source": [
    "#Q88. Write a Python program to check if a substring is present in a given string.\n",
    "\n",
    "def is_sub(s,sub):\n",
    "    \n",
    "    print(\"input string is : \",s)\n",
    "    print(\"input substring is : \",sub)\n",
    "    if (s.find(sub) == 1):\n",
    "        print(sub,\" present in \",s)\n",
    "    else:\n",
    "        print(sub,\"not present in\",s)\n",
    "        \n",
    "    \n",
    "is_sub(\"ABCD\",\"E\")  \n"
   ]
  },
  {
   "cell_type": "code",
   "execution_count": 339,
   "id": "09846cc1",
   "metadata": {},
   "outputs": [
    {
     "name": "stdout",
     "output_type": "stream",
     "text": [
      "Enter length2\n",
      "Enter list of strings AAAAA AAA A AA\n",
      "['AAAAA', 'AAA']\n"
     ]
    }
   ],
   "source": [
    "#Q89. Write a Python program to find words which are greater than given length k.\n",
    "\n",
    "k = int(input(\"Enter length \"))\n",
    "l = input(\"Enter list of strings \").split() # enter space seperated strings without ''\n",
    "new_list = []\n",
    "for i in l:\n",
    "    \n",
    "    if(len(i) > k):\n",
    "        new_list.append(i)\n",
    "    \n",
    "print(new_list)\n",
    "        \n",
    "\n"
   ]
  },
  {
   "cell_type": "code",
   "execution_count": 344,
   "id": "cbe9d364",
   "metadata": {},
   "outputs": [
    {
     "data": {
      "text/plain": [
       "{'apple', 'banana', 'cherry'}"
      ]
     },
     "execution_count": 344,
     "metadata": {},
     "output_type": "execute_result"
    }
   ],
   "source": [
    "#Q90. Write a Python program to extract unquire dictionary values.\n",
    "\n",
    "fruits_dict = {1:'apple',2:'banana',3:'cherry',4:'cherry',5:'banana'}\n",
    "unique_val = set(fruits_dict.values())\n",
    "unique_val"
   ]
  },
  {
   "cell_type": "code",
   "execution_count": 345,
   "id": "c474b99a",
   "metadata": {},
   "outputs": [
    {
     "name": "stdout",
     "output_type": "stream",
     "text": [
      "dictionary 1 is  {1: 'apple', 2: 'banana'}\n",
      "dictionary 2 is  {3: 'pineapple', 4: 'cherry'}\n"
     ]
    },
    {
     "data": {
      "text/plain": [
       "{1: 'apple', 2: 'banana', 3: 'pineapple', 4: 'cherry'}"
      ]
     },
     "execution_count": 345,
     "metadata": {},
     "output_type": "execute_result"
    }
   ],
   "source": [
    "#Q91. Write a Python program to merge two dictionary.\n",
    "\n",
    "def merge_dict(d1,d2):\n",
    "    print(\"dictionary 1 is \",d1)\n",
    "    print(\"dictionary 2 is \",d2)\n",
    "    \n",
    "    d3 = d1|d2\n",
    "    \n",
    "    return d3\n",
    "\n",
    "fruits_dict1 = {1:'apple',2:'banana'}\n",
    "fruits_dict2 = {3:'pineapple',4:'cherry'}\n",
    "merge_dict(fruits_dict1,fruits_dict2)\n",
    "    \n",
    "               "
   ]
  },
  {
   "cell_type": "code",
   "execution_count": 348,
   "id": "d210048e",
   "metadata": {},
   "outputs": [
    {
     "name": "stdout",
     "output_type": "stream",
     "text": [
      "<class 'dict'>\n",
      "{'Sachin': 10, 'MSD': 7, 'Kohli': 18, 'Rohit': 45}\n"
     ]
    }
   ],
   "source": [
    "#Q92. Write a Python program to convert a list of tuples into dictionary.\n",
    "\n",
    "input_list = [('Sachin', 10), ('MSD', 7), ('Kohli', 18), ('Rohit', 45)]\n",
    "#Output : {'Sachin': 10, 'MSD': 7, 'Kohli': 18, 'Rohit': 45}\n",
    "\n",
    "output = dict(input_list)\n",
    "\n",
    "print(type(output))\n",
    "\n",
    "print(output)\n",
    "    \n",
    "\n",
    "\n",
    "\n"
   ]
  },
  {
   "cell_type": "code",
   "execution_count": 355,
   "id": "aae21c9e",
   "metadata": {},
   "outputs": [
    {
     "name": "stdout",
     "output_type": "stream",
     "text": [
      "<class 'list'>\n",
      "[(9, 729), (5, 125), (6, 216)]\n"
     ]
    }
   ],
   "source": [
    "#Q93. Write a Python program to create a list of tuples from given list having number and its cube in each tuple.\n",
    "\n",
    "#Input: list = [9, 5, 6]\n",
    "#Output: [(9, 729), (5, 125), (6, 216)]\n",
    "    \n",
    "input_list = [9, 5, 6]\n",
    "\n",
    "dict_1 = {}\n",
    "\n",
    "\n",
    "for i in input_list:\n",
    "    dict_1[i] = i**3\n",
    "\n",
    "output = list(dict_1.items())\n",
    "\n",
    "print(type(output))\n",
    "\n",
    "print(output)"
   ]
  },
  {
   "cell_type": "code",
   "execution_count": 353,
   "id": "89efa6a4",
   "metadata": {},
   "outputs": [
    {
     "data": {
      "text/plain": [
       "dict_items([(9, 729), (5, 125), (6, 216)])"
      ]
     },
     "execution_count": 353,
     "metadata": {},
     "output_type": "execute_result"
    }
   ],
   "source": [
    "dict_1.items()"
   ]
  },
  {
   "cell_type": "code",
   "execution_count": 359,
   "id": "bef6d40e",
   "metadata": {},
   "outputs": [
    {
     "name": "stdout",
     "output_type": "stream",
     "text": [
      "[(7, 7), (7, 8), (2, 7), (2, 8), (7, 7), (7, 2), (8, 7), (8, 2)]\n"
     ]
    }
   ],
   "source": [
    "#Q94. Write a Python program to get all combinations of 2 tuples.\n",
    "\n",
    "#Input : test_tuple1 = (7, 2), test_tuple2 = (7, 8)\n",
    "#Output : [(7, 7), (7, 8), (2, 7), (2, 8), (7, 7), (7, 2), (8, 7), (8, 2)]\n",
    "\n",
    "test_tuple1 = (7, 2) \n",
    "test_tuple2 = (7, 8)\n",
    "output = []\n",
    "\n",
    "for i in test_tuple1:\n",
    "    for j in test_tuple2:\n",
    "        output.append((i,j))\n",
    "for i in test_tuple2:\n",
    "    for j in test_tuple1:\n",
    "        output.append((i,j))\n",
    "print(output)\n",
    "        "
   ]
  },
  {
   "cell_type": "code",
   "execution_count": 411,
   "id": "c8bd5a7a",
   "metadata": {},
   "outputs": [
    {
     "name": "stdout",
     "output_type": "stream",
     "text": [
      "[('Geeks', 8), ('for', 24), ('Geeks', 30)]\n"
     ]
    }
   ],
   "source": [
    "#Q95. Write a Python program to sort a list of tuples by second item.\n",
    "\n",
    "#Input : [('for', 24), ('Geeks', 8), ('Geeks', 30)] \n",
    "#Output : [('Geeks', 8), ('for', 24), ('Geeks', 30)]\n",
    "\n",
    "input_t = [('for', 24), ('Geeks', 8), ('Geeks', 30)] \n",
    "\n",
    "\n",
    "             \n",
    "input_t.sort(key= lambda x:x[1])\n",
    "    \n",
    "print(input_t)\n"
   ]
  },
  {
   "cell_type": "code",
   "execution_count": 412,
   "id": "c2e3499e",
   "metadata": {},
   "outputs": [
    {
     "data": {
      "text/plain": [
       "'\\n* \\n* * \\n* * * \\n* * * * \\n* * * * * \\n'"
      ]
     },
     "execution_count": 412,
     "metadata": {},
     "output_type": "execute_result"
    }
   ],
   "source": [
    "#Q96. Write a python program to print below pattern.\n",
    "\"\"\"\n",
    "* \n",
    "* * \n",
    "* * * \n",
    "* * * * \n",
    "* * * * * \n",
    "\"\"\""
   ]
  },
  {
   "cell_type": "code",
   "execution_count": 430,
   "id": "78a36379",
   "metadata": {},
   "outputs": [
    {
     "name": "stdout",
     "output_type": "stream",
     "text": [
      " *\n",
      " * *\n",
      " * * *\n",
      " * * * *\n",
      " * * * * *\n",
      " * * * * * *\n"
     ]
    }
   ],
   "source": [
    "for j in range(1,6):\n",
    "    print(j * ' *')\n",
    "       \n"
   ]
  },
  {
   "cell_type": "code",
   "execution_count": 427,
   "id": "2cee93f7",
   "metadata": {},
   "outputs": [
    {
     "data": {
      "text/plain": [
       "'\\nQ97. Write a python program to print below pattern.\\n\\n    *\\n   **\\n  ***\\n ****\\n*****\\n'"
      ]
     },
     "execution_count": 427,
     "metadata": {},
     "output_type": "execute_result"
    }
   ],
   "source": [
    "\"\"\"\n",
    "Q97. Write a python program to print below pattern.\n",
    "\n",
    "    *\n",
    "   **\n",
    "  ***\n",
    " ****\n",
    "*****\n",
    "\"\"\""
   ]
  },
  {
   "cell_type": "code",
   "execution_count": 447,
   "id": "980efb9a",
   "metadata": {},
   "outputs": [
    {
     "name": "stdout",
     "output_type": "stream",
     "text": [
      "    *\n",
      "   **\n",
      "  ***\n",
      " ****\n",
      "*****\n"
     ]
    }
   ],
   "source": [
    "n = 5\n",
    "for i in range(1, n+ 1):\n",
    "    print(\" \" * (n - i) +\"*\" * i)\n",
    "        "
   ]
  },
  {
   "cell_type": "code",
   "execution_count": 443,
   "id": "3a2c8197",
   "metadata": {},
   "outputs": [],
   "source": [
    "#####################\n",
    "#Q98. Write a python program to print below pattern.\n",
    "#\n",
    "    * \n",
    "   * * \n",
    "  * * * \n",
    " * * * * \n",
    "* * * * * "
   ]
  },
  {
   "cell_type": "code",
   "execution_count": 456,
   "id": "4dc12b90",
   "metadata": {},
   "outputs": [
    {
     "name": "stdout",
     "output_type": "stream",
     "text": [
      "    * \r\n",
      "   * * \r\n",
      "  * * * \r\n",
      " * * * * \r\n",
      "* * * * * \r\n"
     ]
    }
   ],
   "source": [
    "n = 5\n",
    "k = n - 1 # number of spaces\n",
    " \n",
    "# outer loop to handle number of rows\n",
    "for i in range(0, n):    \n",
    "    \n",
    "    # inner loop to handle number spaces\n",
    "\n",
    "    for j in range(0, k):\n",
    "        print(end=\" \")\n",
    "     \n",
    "    # decrementing k after each loop\n",
    "    k = k - 1\n",
    "     \n",
    "    # inner loop to handle number of columns\n",
    "    \n",
    "    for j in range(0, i+1):\n",
    "         \n",
    "        # printing stars\n",
    "        print(\"* \", end=\"\")\n",
    "     \n",
    "        # ending line after each row\n",
    "    print(\"\\r\")\n",
    " \n",
    "        \n",
    "    "
   ]
  },
  {
   "cell_type": "code",
   "execution_count": 457,
   "id": "1bebe3cf",
   "metadata": {},
   "outputs": [
    {
     "ename": "SyntaxError",
     "evalue": "invalid syntax (4128268807.py, line 2)",
     "output_type": "error",
     "traceback": [
      "\u001b[1;36m  File \u001b[1;32m\"C:\\Users\\Shweta\\AppData\\Local\\Temp\\ipykernel_17548\\4128268807.py\"\u001b[1;36m, line \u001b[1;32m2\u001b[0m\n\u001b[1;33m    Q99. Write a python program to print below pattern.\u001b[0m\n\u001b[1;37m               ^\u001b[0m\n\u001b[1;31mSyntaxError\u001b[0m\u001b[1;31m:\u001b[0m invalid syntax\n"
     ]
    }
   ],
   "source": [
    "##\n",
    "Q99. Write a python program to print below pattern.\n",
    "\n",
    "1 \n",
    "1 2 \n",
    "1 2 3 \n",
    "1 2 3 4 \n",
    "1 2 3 4 5"
   ]
  },
  {
   "cell_type": "code",
   "execution_count": 470,
   "id": "69f67bc6",
   "metadata": {},
   "outputs": [
    {
     "name": "stdout",
     "output_type": "stream",
     "text": [
      "1 \r\n",
      "1 2 \r\n",
      "1 2 3 \r\n",
      "1 2 3 4 \r\n",
      "1 2 3 4 5 \r\n"
     ]
    }
   ],
   "source": [
    "n = 5 # number of rows and columns\n",
    "for i in range(0,n):\n",
    "    num = 1\n",
    "    for j in range(0,i+1):\n",
    "        print(num,end=\" \")\n",
    "        num = num+1\n",
    "    print(\"\\r\")"
   ]
  },
  {
   "cell_type": "code",
   "execution_count": 471,
   "id": "775b653e",
   "metadata": {},
   "outputs": [
    {
     "ename": "SyntaxError",
     "evalue": "invalid syntax (3724125349.py, line 4)",
     "output_type": "error",
     "traceback": [
      "\u001b[1;36m  File \u001b[1;32m\"C:\\Users\\Shweta\\AppData\\Local\\Temp\\ipykernel_17548\\3724125349.py\"\u001b[1;36m, line \u001b[1;32m4\u001b[0m\n\u001b[1;33m    B B\u001b[0m\n\u001b[1;37m      ^\u001b[0m\n\u001b[1;31mSyntaxError\u001b[0m\u001b[1;31m:\u001b[0m invalid syntax\n"
     ]
    }
   ],
   "source": [
    "#Q100. Write a python program to print below pattern.\n",
    "\n",
    "A \n",
    "B B \n",
    "C C C \n",
    "D D D D \n",
    "E E E E E \n"
   ]
  },
  {
   "cell_type": "code",
   "execution_count": 483,
   "id": "36e03a5c",
   "metadata": {},
   "outputs": [
    {
     "name": "stdout",
     "output_type": "stream",
     "text": [
      "A \r\n",
      "B B \r\n",
      "C C C \r\n",
      "D D D D \r\n",
      "E E E E E \r\n"
     ]
    }
   ],
   "source": [
    "l = ['A','B','C','D','E'] # taking list of alphabets\n",
    "\n",
    "for i in range(0,len(l)):\n",
    "    for j in range(0,i+1):\n",
    "        print(l[i],end=\" \")\n",
    "    print(\"\\r\")\n",
    "    \n",
    "    \n"
   ]
  },
  {
   "cell_type": "code",
   "execution_count": null,
   "id": "49fe2e02",
   "metadata": {},
   "outputs": [],
   "source": []
  }
 ],
 "metadata": {
  "kernelspec": {
   "display_name": "Python 3 (ipykernel)",
   "language": "python",
   "name": "python3"
  },
  "language_info": {
   "codemirror_mode": {
    "name": "ipython",
    "version": 3
   },
   "file_extension": ".py",
   "mimetype": "text/x-python",
   "name": "python",
   "nbconvert_exporter": "python",
   "pygments_lexer": "ipython3",
   "version": "3.9.13"
  }
 },
 "nbformat": 4,
 "nbformat_minor": 5
}
